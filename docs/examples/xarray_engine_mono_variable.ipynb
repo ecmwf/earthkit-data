{
 "cells": [
  {
   "cell_type": "markdown",
   "id": "b74f6a93-148e-4668-a401-6104f54838e1",
   "metadata": {},
   "source": [
    "## Xarray engine: mono variable"
   ]
  },
  {
   "cell_type": "markdown",
   "id": "8b3010be-7895-4fd2-8ad6-a57db7845396",
   "metadata": {},
   "source": [
    "This notebook demonstrates how to generate an Xarray with a single dataarray containing all the parameters from a GRIB fieldlist. This data structure is often needed for machine learning."
   ]
  },
  {
   "cell_type": "markdown",
   "id": "190cab07-5f50-410c-9c56-604a95a64ef0",
   "metadata": {},
   "source": [
    "First, we get 2m temperature and dewpoint data for a whole year on a low resolution regular latitude-longitude grid. It contains 2 fields per day (at 0 and 12 UTC) per parameter. "
   ]
  },
  {
   "cell_type": "code",
   "execution_count": 1,
   "id": "613fc34e-0a19-49cb-9e12-129a9b50f08c",
   "metadata": {},
   "outputs": [
    {
     "data": {
      "application/vnd.jupyter.widget-view+json": {
       "model_id": "cddb05362b9f47349accc06f99451c3b",
       "version_major": 2,
       "version_minor": 0
      },
      "text/plain": [
       "t2_td2_1_year.grib:   0%|          | 0.00/515k [00:00<?, ?B/s]"
      ]
     },
     "metadata": {},
     "output_type": "display_data"
    },
    {
     "data": {
      "text/plain": [
       "1464"
      ]
     },
     "execution_count": 1,
     "metadata": {},
     "output_type": "execute_result"
    }
   ],
   "source": [
    "import earthkit.data as ekd\n",
    "ds_fl = ekd.from_source(\"sample\", \"t2_td2_1_year.grib\")\n",
    "len(ds_fl)"
   ]
  },
  {
   "cell_type": "raw",
   "id": "20e27e09-02fb-4f80-9224-03c3c54ecbf8",
   "metadata": {
    "editable": true,
    "raw_mimetype": "text/x-rst",
    "slideshow": {
     "slide_type": ""
    },
    "tags": []
   },
   "source": [
    "Next, we convert the GRIB Fieldlist to Xarray with :py:meth:`~data.readers.grib.index.GribFieldList.to_xarray`. There will be a single variable in the dataset called \"data\"."
   ]
  },
  {
   "cell_type": "code",
   "execution_count": 2,
   "id": "9ec900dd-2670-41f6-be0c-cdcee6205ee1",
   "metadata": {
    "editable": true,
    "slideshow": {
     "slide_type": ""
    },
    "tags": []
   },
   "outputs": [
    {
     "ename": "ValueError",
     "evalue": "Unknown key defaults in profile mars",
     "output_type": "error",
     "traceback": [
      "\u001b[31m---------------------------------------------------------------------------\u001b[39m",
      "\u001b[31mValueError\u001b[39m                                Traceback (most recent call last)",
      "\u001b[36mCell\u001b[39m\u001b[36m \u001b[39m\u001b[32mIn[2]\u001b[39m\u001b[32m, line 1\u001b[39m\n\u001b[32m----> \u001b[39m\u001b[32m1\u001b[39m ds = \u001b[43mds_fl\u001b[49m\u001b[43m.\u001b[49m\u001b[43mto_xarray\u001b[49m\u001b[43m(\u001b[49m\u001b[43mfixed_dims\u001b[49m\u001b[43m=\u001b[49m\u001b[43m[\u001b[49m\u001b[33;43m\"\u001b[39;49m\u001b[33;43mvalid_time\u001b[39;49m\u001b[33;43m\"\u001b[39;49m\u001b[43m,\u001b[49m\u001b[43m \u001b[49m\u001b[33;43m\"\u001b[39;49m\u001b[33;43mparam\u001b[39;49m\u001b[33;43m\"\u001b[39;49m\u001b[43m,\u001b[49m\u001b[43m \u001b[49m\u001b[33;43m\"\u001b[39;49m\u001b[33;43mnumber\u001b[39;49m\u001b[33;43m\"\u001b[39;49m\u001b[43m]\u001b[49m\u001b[43m,\u001b[49m\n\u001b[32m      2\u001b[39m \u001b[43m                     \u001b[49m\u001b[43mensure_dims\u001b[49m\u001b[43m=\u001b[49m\u001b[43m[\u001b[49m\u001b[33;43m\"\u001b[39;49m\u001b[33;43mnumber\u001b[39;49m\u001b[33;43m\"\u001b[39;49m\u001b[43m]\u001b[49m\u001b[43m,\u001b[49m\n\u001b[32m      3\u001b[39m \u001b[43m                     \u001b[49m\u001b[43mmono_variable\u001b[49m\u001b[43m=\u001b[49m\u001b[38;5;28;43;01mTrue\u001b[39;49;00m\u001b[43m,\u001b[49m\n\u001b[32m      4\u001b[39m \u001b[43m                     \u001b[49m\u001b[43mchunks\u001b[49m\u001b[43m=\u001b[49m\u001b[43m{\u001b[49m\u001b[33;43m\"\u001b[39;49m\u001b[33;43mvalid_time\u001b[39;49m\u001b[33;43m\"\u001b[39;49m\u001b[43m:\u001b[49m\u001b[43m \u001b[49m\u001b[32;43m1\u001b[39;49m\u001b[43m}\u001b[49m\u001b[43m,\u001b[49m\u001b[43m                    \u001b[49m\n\u001b[32m      5\u001b[39m \u001b[43m                     \u001b[49m\u001b[43mflatten_values\u001b[49m\u001b[43m=\u001b[49m\u001b[38;5;28;43;01mTrue\u001b[39;49;00m\u001b[43m,\u001b[49m\u001b[43m                   \u001b[49m\n\u001b[32m      6\u001b[39m \u001b[43m                     \u001b[49m\u001b[43madd_earthkit_attrs\u001b[49m\u001b[43m=\u001b[49m\u001b[38;5;28;43;01mFalse\u001b[39;49;00m\u001b[43m,\u001b[49m\u001b[43m   \u001b[49m\n\u001b[32m      7\u001b[39m \u001b[43m                     \u001b[49m\u001b[43mdefaults\u001b[49m\u001b[43m=\u001b[49m\u001b[43m{\u001b[49m\u001b[33;43m\"\u001b[39;49m\u001b[33;43mnumber\u001b[39;49m\u001b[33;43m\"\u001b[39;49m\u001b[43m:\u001b[49m\u001b[43m \u001b[49m\u001b[32;43m0\u001b[39;49m\u001b[43m}\u001b[49m\u001b[43m,\u001b[49m\n\u001b[32m      8\u001b[39m \u001b[43m                    \u001b[49m\u001b[43m)\u001b[49m\n\u001b[32m      9\u001b[39m ds\n",
      "\u001b[36mFile \u001b[39m\u001b[32m~/git/earthkit-data/src/earthkit/data/readers/grib/xarray.py:424\u001b[39m, in \u001b[36mXarrayMixIn.to_xarray\u001b[39m\u001b[34m(self, engine, xarray_open_dataset_kwargs, **kwargs)\u001b[39m\n\u001b[32m    421\u001b[39m         backend_kwargs[key] = user_xarray_open_dataset_kwargs.pop(key)\n\u001b[32m    422\u001b[39m user_xarray_open_dataset_kwargs[\u001b[33m\"\u001b[39m\u001b[33mbackend_kwargs\u001b[39m\u001b[33m\"\u001b[39m] = backend_kwargs\n\u001b[32m--> \u001b[39m\u001b[32m424\u001b[39m \u001b[38;5;28;01mreturn\u001b[39;00m \u001b[43mengines\u001b[49m\u001b[43m[\u001b[49m\u001b[43mengine\u001b[49m\u001b[43m]\u001b[49m\u001b[43m(\u001b[49m\u001b[43muser_xarray_open_dataset_kwargs\u001b[49m\u001b[43m)\u001b[49m\n",
      "\u001b[36mFile \u001b[39m\u001b[32m~/git/earthkit-data/src/earthkit/data/readers/grib/xarray.py:465\u001b[39m, in \u001b[36mXarrayMixIn.to_xarray_earthkit\u001b[39m\u001b[34m(self, user_kwargs)\u001b[39m\n\u001b[32m    461\u001b[39m other_kwargs = xarray_open_dataset_kwargs\n\u001b[32m    463\u001b[39m \u001b[38;5;28;01mfrom\u001b[39;00m \u001b[34;01mearthkit\u001b[39;00m\u001b[34;01m.\u001b[39;00m\u001b[34;01mdata\u001b[39;00m\u001b[34;01m.\u001b[39;00m\u001b[34;01mutils\u001b[39;00m\u001b[34;01m.\u001b[39;00m\u001b[34;01mxarray\u001b[39;00m\u001b[34;01m.\u001b[39;00m\u001b[34;01mbuilder\u001b[39;00m \u001b[38;5;28;01mimport\u001b[39;00m from_earthkit\n\u001b[32m--> \u001b[39m\u001b[32m465\u001b[39m \u001b[38;5;28;01mreturn\u001b[39;00m \u001b[43mfrom_earthkit\u001b[49m\u001b[43m(\u001b[49m\u001b[38;5;28;43mself\u001b[39;49m\u001b[43m,\u001b[49m\u001b[43m \u001b[49m\u001b[43mbackend_kwargs\u001b[49m\u001b[43m=\u001b[49m\u001b[43mbackend_kwargs\u001b[49m\u001b[43m,\u001b[49m\u001b[43m \u001b[49m\u001b[43mother_kwargs\u001b[49m\u001b[43m=\u001b[49m\u001b[43mother_kwargs\u001b[49m\u001b[43m)\u001b[49m\n",
      "\u001b[36mFile \u001b[39m\u001b[32m~/git/earthkit-data/src/earthkit/data/utils/xarray/builder.py:709\u001b[39m, in \u001b[36mfrom_earthkit\u001b[39m\u001b[34m(ds, backend_kwargs, other_kwargs)\u001b[39m\n\u001b[32m    707\u001b[39m \u001b[38;5;66;03m# to create the profile we need all the possible backend_kwargs (bar profile)\u001b[39;00m\n\u001b[32m    708\u001b[39m profile = profile_kwargs.pop(\u001b[33m\"\u001b[39m\u001b[33mprofile\u001b[39m\u001b[33m\"\u001b[39m, Profile.DEFAULT_PROFILE_NAME)\n\u001b[32m--> \u001b[39m\u001b[32m709\u001b[39m profile = \u001b[43mProfile\u001b[49m\u001b[43m.\u001b[49m\u001b[43mmake\u001b[49m\u001b[43m(\u001b[49m\u001b[43mprofile\u001b[49m\u001b[43m,\u001b[49m\u001b[43m \u001b[49m\u001b[43m*\u001b[49m\u001b[43m*\u001b[49m\u001b[43mprofile_kwargs\u001b[49m\u001b[43m)\u001b[49m\n\u001b[32m    711\u001b[39m \u001b[38;5;66;03m# the backend builder is directly called bypassing xarray.open_dataset\u001b[39;00m\n\u001b[32m    712\u001b[39m \u001b[38;5;28;01mif\u001b[39;00m profile.direct_backend:\n",
      "\u001b[36mFile \u001b[39m\u001b[32m~/git/earthkit-data/src/earthkit/data/utils/xarray/profile.py:322\u001b[39m, in \u001b[36mProfile.make\u001b[39m\u001b[34m(name_or_def, force, *args, **kwargs)\u001b[39m\n\u001b[32m    319\u001b[39m \u001b[38;5;28;01melse\u001b[39;00m:\n\u001b[32m    320\u001b[39m     \u001b[38;5;28;01mraise\u001b[39;00m \u001b[38;5;167;01mValueError\u001b[39;00m(\u001b[33mf\u001b[39m\u001b[33m\"\u001b[39m\u001b[33mUnsupported type for name_or_def: \u001b[39m\u001b[38;5;132;01m{\u001b[39;00m\u001b[38;5;28mtype\u001b[39m(name_or_def)\u001b[38;5;132;01m}\u001b[39;00m\u001b[33m\"\u001b[39m)\n\u001b[32m--> \u001b[39m\u001b[32m322\u001b[39m \u001b[38;5;28;01mreturn\u001b[39;00m \u001b[43mProfile\u001b[49m\u001b[43m.\u001b[49m\u001b[43mfrom_conf\u001b[49m\u001b[43m(\u001b[49m\u001b[43mname\u001b[49m\u001b[43m,\u001b[49m\u001b[43m \u001b[49m\u001b[43mconf\u001b[49m\u001b[43m,\u001b[49m\u001b[43m \u001b[49m\u001b[43m*\u001b[49m\u001b[43margs\u001b[49m\u001b[43m,\u001b[49m\u001b[43m \u001b[49m\u001b[43m*\u001b[49m\u001b[43m*\u001b[49m\u001b[43mkwargs\u001b[49m\u001b[43m)\u001b[49m\n",
      "\u001b[36mFile \u001b[39m\u001b[32m~/git/earthkit-data/src/earthkit/data/utils/xarray/profile.py:350\u001b[39m, in \u001b[36mProfile.from_conf\u001b[39m\u001b[34m(cls, name, conf, *args, **kwargs)\u001b[39m\n\u001b[32m    348\u001b[39m                 opt[k] = v\n\u001b[32m    349\u001b[39m             \u001b[38;5;28;01melse\u001b[39;00m:\n\u001b[32m--> \u001b[39m\u001b[32m350\u001b[39m                 \u001b[38;5;28;01mraise\u001b[39;00m \u001b[38;5;167;01mValueError\u001b[39;00m(\u001b[33mf\u001b[39m\u001b[33m\"\u001b[39m\u001b[33mUnknown key \u001b[39m\u001b[38;5;132;01m{\u001b[39;00mk\u001b[38;5;132;01m}\u001b[39;00m\u001b[33m in profile \u001b[39m\u001b[38;5;132;01m{\u001b[39;00mname\u001b[38;5;132;01m}\u001b[39;00m\u001b[33m\"\u001b[39m)\n\u001b[32m    352\u001b[39m \u001b[38;5;28;01mdef\u001b[39;00m \u001b[34m_check_type\u001b[39m(k, v, t):\n\u001b[32m    353\u001b[39m     \u001b[38;5;28;01mif\u001b[39;00m \u001b[38;5;28misinstance\u001b[39m(PROFILE_CONF.defaults[k], t):\n",
      "\u001b[31mValueError\u001b[39m: Unknown key defaults in profile mars"
     ]
    }
   ],
   "source": [
    "ds = ds_fl.to_xarray(fixed_dims=[\"valid_time\", \"param\", \"number\"],\n",
    "                     ensure_dims=[\"number\"],\n",
    "                     mono_variable=True,\n",
    "                     chunks={\"valid_time\": 1},                    \n",
    "                     flatten_values=True,                   \n",
    "                     add_earthkit_attrs=False,   \n",
    "                     defaults={\"number\": 0},\n",
    "                    )\n",
    "ds"
   ]
  },
  {
   "cell_type": "markdown",
   "id": "312fcd49-3625-41ef-8b21-84d0cd24f9a0",
   "metadata": {},
   "source": [
    "When generating the Xarray we flattened the field values and chose the chunking so that one chunk contains all the data belonging to a given valid time."
   ]
  },
  {
   "cell_type": "code",
   "execution_count": null,
   "id": "5b687a1d-2a9a-4584-894a-d2175b9b0317",
   "metadata": {},
   "outputs": [],
   "source": [
    "ds[\"data\"]"
   ]
  },
  {
   "cell_type": "code",
   "execution_count": null,
   "id": "007c3800-63f9-4050-9f58-00f5aa3267ff",
   "metadata": {
    "editable": true,
    "slideshow": {
     "slide_type": ""
    },
    "tags": []
   },
   "outputs": [],
   "source": []
  }
 ],
 "metadata": {
  "kernelspec": {
   "display_name": "dev",
   "language": "python",
   "name": "dev"
  },
  "language_info": {
   "codemirror_mode": {
    "name": "ipython",
    "version": 3
   },
   "file_extension": ".py",
   "mimetype": "text/x-python",
   "name": "python",
   "nbconvert_exporter": "python",
   "pygments_lexer": "ipython3",
   "version": "3.11.12"
  }
 },
 "nbformat": 4,
 "nbformat_minor": 5
}
