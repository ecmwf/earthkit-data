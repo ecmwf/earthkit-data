{
 "cells": [
  {
   "cell_type": "markdown",
   "id": "65c27cc6-55b9-4d36-af83-c35cbd00caf3",
   "metadata": {
    "editable": true,
    "slideshow": {
     "slide_type": ""
    },
    "tags": []
   },
   "source": [
    "## Cache policies"
   ]
  },
  {
   "cell_type": "code",
   "execution_count": 1,
   "id": "64c27d94-7d5b-4a0f-9e72-708be1609527",
   "metadata": {},
   "outputs": [],
   "source": [
    "from earthkit.data import config, cache"
   ]
  },
  {
   "attachments": {},
   "cell_type": "raw",
   "id": "232699ed-fd27-426c-8b6b-93091b72d68d",
   "metadata": {
    "editable": true,
    "raw_mimetype": "text/restructuredtext",
    "slideshow": {
     "slide_type": ""
    },
    "tags": []
   },
   "source": [
    "earthkit-data uses a dedicated **directory** to store the results of remote data access and some GRIB/BUFR indexing information. By default this directory is **unmanaged** (its size is not checked/limited) and **no caching** is provided for the files in it, i.e. repeated calls to :func:`from_source` for remote services and URLSs will download the data again!\n",
    "\n",
    "When :ref:`caching <caching>` is **enabled** this directory will also serve as a :ref:`cache <caching>`. It means if we run :func:`from_source` again with the same arguments it will load the data from the cache instead of downloading it again. Additionally, caching offers **monitoring and disk space management**. When the cache is full, cached data is deleted according to the configuration (i.e. oldest data is deleted first). "
   ]
  },
  {
   "cell_type": "markdown",
   "id": "3d93c85a-3c9b-4496-990d-8612fcb82fcf",
   "metadata": {
    "editable": true,
    "slideshow": {
     "slide_type": ""
    },
    "tags": []
   },
   "source": [
    "In the examples below we will change the configuration multiple times. First we ensure all the changes are temporary and no options are saved into the configuration file. We also reset the configuration to the defaults."
   ]
  },
  {
   "cell_type": "code",
   "execution_count": 2,
   "id": "71214b97-2b64-442d-bd23-98f831b064d0",
   "metadata": {
    "editable": true,
    "slideshow": {
     "slide_type": ""
    },
    "tags": []
   },
   "outputs": [],
   "source": [
    "config.autosave = False\n",
    "config.reset()"
   ]
  },
  {
   "cell_type": "markdown",
   "id": "f042d092-a536-4d2c-9e05-8ddb3b9faf92",
   "metadata": {},
   "source": [
    "#### No caching (default)"
   ]
  },
  {
   "cell_type": "raw",
   "id": "6ff49243-d394-41a9-8351-7575d0574134",
   "metadata": {
    "editable": true,
    "raw_mimetype": "text/restructuredtext",
    "slideshow": {
     "slide_type": ""
    },
    "tags": []
   },
   "source": [
    "The primary key to control the cache in the configuration is :ref:`cache-policy <cache_policies>`. The default value is :ref:`\"off\" <off_cache_policy>`, which means that no caching is available. \n",
    "\n",
    "In this case all files are downloaded into an **unmanaged** temporary directory created by *tempfile.TemporaryDirectory*. Since caching is disabled all calls to :func:`from_source` for remote services and URLSs will download the data again! This temporary directory will be unique for each earthkit-data session. When the directory object goes out of scope (at the latest on exit) the directory will be **cleaned up**. "
   ]
  },
  {
   "cell_type": "markdown",
   "id": "1f070e17-a100-4555-b497-c7439e500822",
   "metadata": {
    "editable": true,
    "slideshow": {
     "slide_type": ""
    },
    "tags": []
   },
   "source": [
    "The config tells us the current cache policy:"
   ]
  },
  {
   "cell_type": "code",
   "execution_count": 3,
   "id": "7934b903-2338-4f00-80b2-99e367a9404b",
   "metadata": {},
   "outputs": [
    {
     "data": {
      "text/plain": [
       "'off'"
      ]
     },
     "execution_count": 3,
     "metadata": {},
     "output_type": "execute_result"
    }
   ],
   "source": [
    "config.get(\"cache-policy\")"
   ]
  },
  {
   "cell_type": "raw",
   "id": "2920126e-eab7-407f-a1a7-8c99c0702943",
   "metadata": {
    "editable": true,
    "raw_mimetype": "text/restructuredtext",
    "slideshow": {
     "slide_type": ""
    },
    "tags": []
   },
   "source": [
    "The path to the temporary directory has to be queried through the :ref:`cache object <cache_object>`:"
   ]
  },
  {
   "cell_type": "code",
   "execution_count": 4,
   "id": "047f85f3-9000-4795-904c-42b88658570c",
   "metadata": {
    "editable": true,
    "slideshow": {
     "slide_type": ""
    },
    "tags": []
   },
   "outputs": [
    {
     "data": {
      "text/plain": [
       "'/var/folders/93/w0p869rx17q98wxk83gn9ys40000gn/T/tmptdj20reb'"
      ]
     },
     "execution_count": 4,
     "metadata": {},
     "output_type": "execute_result"
    }
   ],
   "source": [
    "cache.directory()"
   ]
  },
  {
   "cell_type": "raw",
   "id": "4302a441-afbe-4493-b0c4-2bd605c7fde1",
   "metadata": {
    "editable": true,
    "raw_mimetype": "text/restructuredtext",
    "slideshow": {
     "slide_type": ""
    },
    "tags": []
   },
   "source": [
    "We can specify the parent directory for the temporary directory by using the :ref:`temporary-directory-root <off_cache_policy>` config option. By default it is set to None (no parent directory specified)."
   ]
  },
  {
   "cell_type": "code",
   "execution_count": 5,
   "id": "3ccbf119-b641-4d38-bf3c-79bc35151744",
   "metadata": {
    "editable": true,
    "slideshow": {
     "slide_type": ""
    },
    "tags": []
   },
   "outputs": [
    {
     "data": {
      "text/plain": [
       "'/var/folders/93/w0p869rx17q98wxk83gn9ys40000gn/T/tmpfybjqiu6'"
      ]
     },
     "execution_count": 5,
     "metadata": {},
     "output_type": "execute_result"
    }
   ],
   "source": [
    "s = {\"cache-policy\": \"off\", \n",
    "     \"temporary-directory-root\": \"~/my_demo_tmp\"}\n",
    "config.set(s)\n",
    "cache.directory()"
   ]
  },
  {
   "cell_type": "markdown",
   "id": "8d0ede62-77d4-4914-86c8-12bc6846d16a",
   "metadata": {
    "editable": true,
    "slideshow": {
     "slide_type": ""
    },
    "tags": []
   },
   "source": [
    "#### Temporary cache directory"
   ]
  },
  {
   "attachments": {},
   "cell_type": "raw",
   "id": "943e6bcc-6110-4930-a346-194a28731123",
   "metadata": {
    "editable": true,
    "raw_mimetype": "text/restructuredtext",
    "slideshow": {
     "slide_type": ""
    },
    "tags": []
   },
   "source": [
    "When the :ref:`cache-policy <cache_policies>` is :ref:`\"temporary\" <temporary_cache_policy>` the **cache will be active and located in a managed** temporary directory created by *tempfile.TemporaryDirectory*. This directory will be **unique** for each earthkit-data session. When the directory object goes out of scope (at the latest on exit) the cache is **cleaned up**."
   ]
  },
  {
   "cell_type": "code",
   "execution_count": 6,
   "id": "36aa1fad-2594-4a43-b115-60ac0e602a9a",
   "metadata": {
    "editable": true,
    "slideshow": {
     "slide_type": ""
    },
    "tags": []
   },
   "outputs": [
    {
     "name": "stdout",
     "output_type": "stream",
     "text": [
      "temporary\n"
     ]
    }
   ],
   "source": [
    "config.set(\"cache-policy\", \"temporary\")\n",
    "print(config.get(\"cache-policy\"))"
   ]
  },
  {
   "cell_type": "raw",
   "id": "808e10da-a8ff-4757-88ce-b408e423cd50",
   "metadata": {
    "editable": true,
    "raw_mimetype": "text/restructuredtext",
    "slideshow": {
     "slide_type": ""
    },
    "tags": []
   },
   "source": [
    "The path to the cache directory has to be queried through the :ref:`cache object <cache_object>`:"
   ]
  },
  {
   "cell_type": "code",
   "execution_count": 7,
   "id": "df3dd753-7f61-40c9-986f-5cfca5e4713e",
   "metadata": {
    "editable": true,
    "slideshow": {
     "slide_type": ""
    },
    "tags": []
   },
   "outputs": [
    {
     "data": {
      "text/plain": [
       "'/var/folders/93/w0p869rx17q98wxk83gn9ys40000gn/T/tmp_i65c09a'"
      ]
     },
     "execution_count": 7,
     "metadata": {},
     "output_type": "execute_result"
    }
   ],
   "source": [
    "cache.directory()"
   ]
  },
  {
   "attachments": {},
   "cell_type": "raw",
   "id": "cd723cc6-204e-4114-9567-f7f5dd4d169e",
   "metadata": {
    "editable": true,
    "raw_mimetype": "text/restructuredtext",
    "slideshow": {
     "slide_type": ""
    },
    "tags": []
   },
   "source": [
    "We can specify the parent directory for the the temporary cache by using the :ref:`temporary-cache-directory-root <temporary_cache_policy>` config option. By default it is set to None (no parent directory specified)."
   ]
  },
  {
   "cell_type": "code",
   "execution_count": 8,
   "id": "7b057350-7fed-4204-b825-e782f93883b6",
   "metadata": {
    "editable": true,
    "slideshow": {
     "slide_type": ""
    },
    "tags": []
   },
   "outputs": [
    {
     "data": {
      "text/plain": [
       "'/Users/cgr/my_demo_cache/tmp0yxt25rk'"
      ]
     },
     "execution_count": 8,
     "metadata": {},
     "output_type": "execute_result"
    }
   ],
   "source": [
    "s = {\"cache-policy\": \"temporary\", \n",
    "     \"temporary-cache-directory-root\": \"~/my_demo_cache\"}\n",
    "config.set(s)\n",
    "cache.directory()"
   ]
  },
  {
   "cell_type": "markdown",
   "id": "df5b047f-a34e-4a70-82d7-b7bb1fcc2fc2",
   "metadata": {},
   "source": [
    "#### User defined cache directory"
   ]
  },
  {
   "attachments": {},
   "cell_type": "raw",
   "id": "8c9988a4-5760-456b-9b72-d3eecb955d7d",
   "metadata": {
    "editable": true,
    "raw_mimetype": "text/restructuredtext",
    "slideshow": {
     "slide_type": ""
    },
    "tags": []
   },
   "source": [
    "When the :ref:`cache-policy <cache_policies>` is :ref:`\"user\" <user_cache_policy>` the **cache will be active** and created in a **managed directory** defined by the :ref:`user-cache-directory <user_cache_policy>` config option. \n",
    "\n",
    "The user cache directory is **not cleaned up on exit**. So next time you start earthkit-data it will be there again unless it is deleted manually or it is set in way that on each startup a different path is assigned to it. Also, when you run multiple sessions of earthkit-data under the same user they will share the same cache. "
   ]
  },
  {
   "attachments": {},
   "cell_type": "markdown",
   "id": "da6e1e1c-c248-4301-ab89-fea50b73bf57",
   "metadata": {
    "editable": true,
    "slideshow": {
     "slide_type": ""
    },
    "tags": []
   },
   "source": [
    "The configuration tells us all the details about the cache policy and location:"
   ]
  },
  {
   "cell_type": "code",
   "execution_count": 9,
   "id": "4c2afb82-c630-451f-88e5-f80c8aa404ac",
   "metadata": {
    "editable": true,
    "slideshow": {
     "slide_type": ""
    },
    "tags": []
   },
   "outputs": [
    {
     "name": "stdout",
     "output_type": "stream",
     "text": [
      "user\n",
      "/var/folders/93/w0p869rx17q98wxk83gn9ys40000gn/T/earthkit-data-cgr\n"
     ]
    }
   ],
   "source": [
    "config.set(\"cache-policy\", \"user\")\n",
    "print(config.get(\"cache-policy\"))\n",
    "print(config.get(\"user-cache-directory\"))"
   ]
  },
  {
   "cell_type": "raw",
   "id": "743bb32a-f1bf-4b1d-94e9-f8a17516b19a",
   "metadata": {
    "editable": true,
    "raw_mimetype": "text/restructuredtext",
    "slideshow": {
     "slide_type": ""
    },
    "tags": []
   },
   "source": [
    "The path to the current cache directory can also be queried through the :ref:`cache object <cache_object>`:"
   ]
  },
  {
   "cell_type": "code",
   "execution_count": 10,
   "id": "44583d41-f1d3-4c28-8af5-90d659cdae31",
   "metadata": {
    "editable": true,
    "slideshow": {
     "slide_type": ""
    },
    "tags": []
   },
   "outputs": [
    {
     "data": {
      "text/plain": [
       "'/var/folders/93/w0p869rx17q98wxk83gn9ys40000gn/T/earthkit-data-cgr'"
      ]
     },
     "execution_count": 10,
     "metadata": {},
     "output_type": "execute_result"
    }
   ],
   "source": [
    "cache.directory()"
   ]
  },
  {
   "cell_type": "markdown",
   "id": "f6665b3b-5176-4161-9671-b20eb3bcc483",
   "metadata": {
    "editable": true,
    "slideshow": {
     "slide_type": ""
    },
    "tags": []
   },
   "source": [
    "We are free to change the user cache directory to another path:"
   ]
  },
  {
   "cell_type": "code",
   "execution_count": 11,
   "id": "ea59e447-084e-4bf4-8635-744c769a92e2",
   "metadata": {},
   "outputs": [
    {
     "data": {
      "text/plain": [
       "'/Users/cgr/earthkit-data-demo-cache'"
      ]
     },
     "execution_count": 11,
     "metadata": {},
     "output_type": "execute_result"
    }
   ],
   "source": [
    "config.set(\"user-cache-directory\", \"~/earthkit-data-demo-cache\")\n",
    "cache.directory()"
   ]
  },
  {
   "cell_type": "code",
   "execution_count": null,
   "id": "de64b61b-ba84-4c6d-8801-b6fbd8d782ff",
   "metadata": {
    "editable": true,
    "slideshow": {
     "slide_type": ""
    },
    "tags": []
   },
   "outputs": [],
   "source": []
  }
 ],
 "metadata": {
  "kernelspec": {
   "display_name": "dev_ecc",
   "language": "python",
   "name": "dev_ecc"
  },
  "language_info": {
   "codemirror_mode": {
    "name": "ipython",
    "version": 3
   },
   "file_extension": ".py",
   "mimetype": "text/x-python",
   "name": "python",
   "nbconvert_exporter": "python",
   "pygments_lexer": "ipython3",
   "version": "3.10.13"
  }
 },
 "nbformat": 4,
 "nbformat_minor": 5
}
