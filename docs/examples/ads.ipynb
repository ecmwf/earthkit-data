{
 "cells": [
  {
   "cell_type": "markdown",
   "id": "7ec282fb-fdf9-45ba-b3f7-3d46ef212e98",
   "metadata": {
    "editable": true,
    "slideshow": {
     "slide_type": ""
    },
    "tags": []
   },
   "source": [
    "## Retrieving data from the ADS"
   ]
  },
  {
   "cell_type": "raw",
   "id": "fdb1ce5a-2f75-44e4-85fb-6bd47084cadd",
   "metadata": {
    "editable": true,
    "raw_mimetype": "text/restructuredtext",
    "slideshow": {
     "slide_type": ""
    },
    "tags": []
   },
   "source": [
    "The :ref:`ads <data-sources-ads>` data source provides access to the `Copernicus Atmosphere Data Store (ADS) <https://ads.atmosphere.copernicus.eu>`_."
   ]
  },
  {
   "cell_type": "code",
   "execution_count": 1,
   "id": "f24509e0-dd8c-4032-9a3c-5a963ad544d9",
   "metadata": {
    "editable": true,
    "slideshow": {
     "slide_type": ""
    },
    "tags": []
   },
   "outputs": [],
   "source": [
    "import earthkit.data as ekd"
   ]
  },
  {
   "cell_type": "markdown",
   "id": "9f4ce2c9-aaa3-4b76-aacb-1f597df3e338",
   "metadata": {
    "editable": true,
    "slideshow": {
     "slide_type": ""
    },
    "tags": []
   },
   "source": [
    "### Getting GRIB data"
   ]
  },
  {
   "cell_type": "code",
   "execution_count": 2,
   "id": "be1b53fd-4871-4ebf-ae6c-a62fd1117082",
   "metadata": {},
   "outputs": [],
   "source": [
    "ds = ekd.from_source(\n",
    "    \"ads\",\n",
    "    \"cams-global-reanalysis-eac4\",\n",
    "    variable=[\"particulate_matter_10um\", \"particulate_matter_1um\"],\n",
    "    area=[50, -50, 20, 50], #N,W,S,E \n",
    "    date=\"2012-05-10\",\n",
    "    time=\"12:00\",\n",
    ")"
   ]
  },
  {
   "cell_type": "code",
   "execution_count": 3,
   "id": "09210614-fad6-46cf-915d-aae4a592d2d5",
   "metadata": {
    "editable": true,
    "slideshow": {
     "slide_type": ""
    },
    "tags": []
   },
   "outputs": [
    {
     "data": {
      "text/html": [
       "<div>\n",
       "<style scoped>\n",
       "    .dataframe tbody tr th:only-of-type {\n",
       "        vertical-align: middle;\n",
       "    }\n",
       "\n",
       "    .dataframe tbody tr th {\n",
       "        vertical-align: top;\n",
       "    }\n",
       "\n",
       "    .dataframe thead th {\n",
       "        text-align: right;\n",
       "    }\n",
       "</style>\n",
       "<table border=\"1\" class=\"dataframe\">\n",
       "  <thead>\n",
       "    <tr style=\"text-align: right;\">\n",
       "      <th></th>\n",
       "      <th>centre</th>\n",
       "      <th>shortName</th>\n",
       "      <th>typeOfLevel</th>\n",
       "      <th>level</th>\n",
       "      <th>dataDate</th>\n",
       "      <th>dataTime</th>\n",
       "      <th>stepRange</th>\n",
       "      <th>dataType</th>\n",
       "      <th>number</th>\n",
       "      <th>gridType</th>\n",
       "    </tr>\n",
       "  </thead>\n",
       "  <tbody>\n",
       "    <tr>\n",
       "      <th>0</th>\n",
       "      <td>ecmf</td>\n",
       "      <td>pm10</td>\n",
       "      <td>surface</td>\n",
       "      <td>0</td>\n",
       "      <td>20120510</td>\n",
       "      <td>1200</td>\n",
       "      <td>0</td>\n",
       "      <td>an</td>\n",
       "      <td>0</td>\n",
       "      <td>regular_ll</td>\n",
       "    </tr>\n",
       "    <tr>\n",
       "      <th>1</th>\n",
       "      <td>ecmf</td>\n",
       "      <td>pm1</td>\n",
       "      <td>surface</td>\n",
       "      <td>0</td>\n",
       "      <td>20120510</td>\n",
       "      <td>1200</td>\n",
       "      <td>0</td>\n",
       "      <td>an</td>\n",
       "      <td>0</td>\n",
       "      <td>regular_ll</td>\n",
       "    </tr>\n",
       "  </tbody>\n",
       "</table>\n",
       "</div>"
      ],
      "text/plain": [
       "  centre shortName typeOfLevel  level  dataDate  dataTime stepRange dataType  \\\n",
       "0   ecmf      pm10     surface      0  20120510      1200         0       an   \n",
       "1   ecmf       pm1     surface      0  20120510      1200         0       an   \n",
       "\n",
       "   number    gridType  \n",
       "0       0  regular_ll  \n",
       "1       0  regular_ll  "
      ]
     },
     "execution_count": 3,
     "metadata": {},
     "output_type": "execute_result"
    }
   ],
   "source": [
    "ds.ls()"
   ]
  },
  {
   "cell_type": "markdown",
   "id": "eed0bfe1-eb81-4c26-a48b-5150f67bbb79",
   "metadata": {},
   "source": [
    "### Getting NetCDF data"
   ]
  },
  {
   "cell_type": "code",
   "execution_count": 4,
   "id": "47f368bd-64c7-4268-bacf-7f3f1aad1b24",
   "metadata": {},
   "outputs": [],
   "source": [
    "ds1 = ekd.from_source(\n",
    "    \"ads\",\n",
    "    \"cams-global-reanalysis-eac4\",\n",
    "    variable=[\"particulate_matter_10um\", \"particulate_matter_1um\"],\n",
    "    area=[50, -50, 20, 50], #N,W,S,E \n",
    "    date=\"2012-05-10\",\n",
    "    time=\"12:00\",\n",
    "    format=\"netcdf\"\n",
    ")"
   ]
  },
  {
   "cell_type": "code",
   "execution_count": 5,
   "id": "71d9a8f0-5cc7-45ce-a748-44791d9d1220",
   "metadata": {},
   "outputs": [
    {
     "name": "stdout",
     "output_type": "stream",
     "text": [
      "NetCDFField['pm10',[[time:0=1336651200000000000]]]\n",
      "NetCDFField['pm1',[[time:0=1336651200000000000]]]\n"
     ]
    }
   ],
   "source": [
    "for f in ds1:\n",
    "    print(f)"
   ]
  },
  {
   "cell_type": "code",
   "execution_count": null,
   "id": "5514f18a-0441-4995-8451-4f4fdd54d60f",
   "metadata": {},
   "outputs": [],
   "source": []
  }
 ],
 "metadata": {
  "kernelspec": {
   "display_name": "dev",
   "language": "python",
   "name": "dev"
  },
  "language_info": {
   "codemirror_mode": {
    "name": "ipython",
    "version": 3
   },
   "file_extension": ".py",
   "mimetype": "text/x-python",
   "name": "python",
   "nbconvert_exporter": "python",
   "pygments_lexer": "ipython3",
   "version": "3.10.13"
  }
 },
 "nbformat": 4,
 "nbformat_minor": 5
}
