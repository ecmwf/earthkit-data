{
 "cells": [
  {
   "cell_type": "markdown",
   "id": "8d99fcb6-6b6c-4fb4-a732-476b34a54f16",
   "metadata": {
    "editable": true,
    "slideshow": {
     "slide_type": ""
    },
    "tags": []
   },
   "source": [
    "## Xarray engine: field dimensions"
   ]
  },
  {
   "cell_type": "code",
   "execution_count": 1,
   "id": "2338abba-887d-4d94-af7b-0261cd9ab42c",
   "metadata": {
    "editable": true,
    "slideshow": {
     "slide_type": ""
    },
    "tags": []
   },
   "outputs": [],
   "source": [
    "import earthkit.data as ekd"
   ]
  },
  {
   "cell_type": "raw",
   "id": "2f23c9c6-09b3-477f-8d2f-534312bc835f",
   "metadata": {
    "editable": true,
    "raw_mimetype": "text/restructuredtext",
    "slideshow": {
     "slide_type": ""
    },
    "tags": []
   },
   "source": [
    "When converting a GRIB fieldlist to Xarray with :py:meth:`~data.readers.grib.index.GribFieldList.to_xarray` the last one or two dimensions representing the field values depend on the grid type and the ``flatten_values`` settings. \n",
    "\n",
    "When ``flatten_values`` is False (the is the default, depending on the profile) the field shape is used to form the field dimensions, whose names vary with the grid type. Otherwise, a single dimension called \"values\" will represent a field."
   ]
  },
  {
   "cell_type": "markdown",
   "id": "93dd5a95-a27a-4b6d-9379-d4ef3a276c09",
   "metadata": {
    "editable": true,
    "slideshow": {
     "slide_type": ""
    },
    "tags": []
   },
   "source": [
    "#### Regular grids"
   ]
  },
  {
   "cell_type": "code",
   "execution_count": 2,
   "id": "230c93d6-78ed-4111-b8c7-b5147629d004",
   "metadata": {
    "editable": true,
    "slideshow": {
     "slide_type": ""
    },
    "tags": []
   },
   "outputs": [
    {
     "data": {
      "text/plain": [
       "(Frozen({'forecast_reference_time': 4, 'step': 2, 'levelist': 2, 'latitude': 19, 'longitude': 36}),\n",
       " Coordinates:\n",
       "   * forecast_reference_time  (forecast_reference_time) datetime64[ns] 32B 202...\n",
       "   * step                     (step) timedelta64[ns] 16B 00:00:00 06:00:00\n",
       "   * levelist                 (levelist) int64 16B 500 700\n",
       "   * latitude                 (latitude) float64 152B 90.0 80.0 ... -80.0 -90.0\n",
       "   * longitude                (longitude) float64 288B 0.0 10.0 ... 340.0 350.0)"
      ]
     },
     "execution_count": 2,
     "metadata": {},
     "output_type": "execute_result"
    }
   ],
   "source": [
    "ds_fl = ekd.from_source(\"sample\", \"pl.grib\")\n",
    "ds_xr = ds_fl.to_xarray()\n",
    "ds_xr.sizes, ds_xr.coords"
   ]
  },
  {
   "cell_type": "code",
   "execution_count": 3,
   "id": "1addacac-a86d-4fca-8c87-b1c28e557b3c",
   "metadata": {
    "editable": true,
    "slideshow": {
     "slide_type": ""
    },
    "tags": []
   },
   "outputs": [
    {
     "data": {
      "text/plain": [
       "(Frozen({'forecast_reference_time': 4, 'step': 2, 'levelist': 2, 'values': 684}),\n",
       " Coordinates:\n",
       "   * forecast_reference_time  (forecast_reference_time) datetime64[ns] 32B 202...\n",
       "   * step                     (step) timedelta64[ns] 16B 00:00:00 06:00:00\n",
       "   * levelist                 (levelist) int64 16B 500 700\n",
       "     latitude                 (values) float64 5kB ...\n",
       "     longitude                (values) float64 5kB ...)"
      ]
     },
     "execution_count": 3,
     "metadata": {},
     "output_type": "execute_result"
    }
   ],
   "source": [
    "ds_xr = ds_fl.to_xarray(flatten_values=True)\n",
    "ds_xr.sizes, ds_xr.coords"
   ]
  },
  {
   "cell_type": "markdown",
   "id": "38fb0810-04c4-4fa3-8253-9e249389b738",
   "metadata": {
    "editable": true,
    "slideshow": {
     "slide_type": ""
    },
    "tags": []
   },
   "source": [
    "#### Regular grids on a projection"
   ]
  },
  {
   "cell_type": "code",
   "execution_count": 4,
   "id": "f502bbfc-e274-4789-9402-d3898bb0bbe4",
   "metadata": {
    "editable": true,
    "slideshow": {
     "slide_type": ""
    },
    "tags": []
   },
   "outputs": [
    {
     "data": {
      "text/plain": [
       "(Frozen({'y': 475, 'x': 475}),\n",
       " Coordinates:\n",
       "     latitude   (y, x) float64 2MB ...\n",
       "     longitude  (y, x) float64 2MB ...)"
      ]
     },
     "execution_count": 4,
     "metadata": {},
     "output_type": "execute_result"
    }
   ],
   "source": [
    "ds_fl = ekd.from_source(\"sample\", \"lambert_conformal.grib\")\n",
    "ds_xr = ds_fl.to_xarray()\n",
    "ds_xr.sizes, ds_xr.coords"
   ]
  },
  {
   "cell_type": "code",
   "execution_count": 5,
   "id": "c020213e-9768-409f-af6d-d5ebf83b8e22",
   "metadata": {
    "editable": true,
    "slideshow": {
     "slide_type": ""
    },
    "tags": []
   },
   "outputs": [
    {
     "data": {
      "text/plain": [
       "(Frozen({'values': 225625}),\n",
       " Coordinates:\n",
       "     latitude   (values) float64 2MB ...\n",
       "     longitude  (values) float64 2MB ...)"
      ]
     },
     "execution_count": 5,
     "metadata": {},
     "output_type": "execute_result"
    }
   ],
   "source": [
    "ds_xr = ds_fl.to_xarray(flatten_values=True)\n",
    "ds_xr.sizes, ds_xr.coords"
   ]
  },
  {
   "cell_type": "markdown",
   "id": "2e01f967-3b42-4bfc-9a00-7751be19da49",
   "metadata": {
    "editable": true,
    "slideshow": {
     "slide_type": ""
    },
    "tags": []
   },
   "source": [
    "#### Unstructured grids"
   ]
  },
  {
   "cell_type": "markdown",
   "id": "907e93d3-eefa-44ec-a8d0-85761ad50fdd",
   "metadata": {
    "editable": true,
    "slideshow": {
     "slide_type": ""
    },
    "tags": []
   },
   "source": [
    "For unstructured grids (like reduced Gaussian) only the \"values\" dimension is generated and ``flatten_values`` makes no effect."
   ]
  },
  {
   "cell_type": "code",
   "execution_count": 6,
   "id": "57858980-e9d1-48f4-9a52-ce331b9a8f95",
   "metadata": {
    "editable": true,
    "slideshow": {
     "slide_type": ""
    },
    "tags": []
   },
   "outputs": [
    {
     "data": {
      "text/plain": [
       "(Frozen({'step': 2, 'values': 5248}),\n",
       " Coordinates:\n",
       "   * step       (step) timedelta64[ns] 16B 00:00:00 06:00:00\n",
       "     latitude   (values) float64 42kB ...\n",
       "     longitude  (values) float64 42kB ...)"
      ]
     },
     "execution_count": 6,
     "metadata": {},
     "output_type": "execute_result"
    }
   ],
   "source": [
    "ds_fl = ekd.from_source(\"sample\", \"reduced_gg_O32.grib1\")\n",
    "ds_xr = ds_fl.to_xarray()\n",
    "ds_xr.sizes, ds_xr.coords"
   ]
  },
  {
   "cell_type": "markdown",
   "id": "a5ef12f8-7fbc-4007-9c09-73d52f6723d4",
   "metadata": {
    "editable": true,
    "slideshow": {
     "slide_type": ""
    },
    "tags": []
   },
   "source": [
    "#### Spherical harmonics"
   ]
  },
  {
   "cell_type": "markdown",
   "id": "a69e8115-8587-4525-b945-58edf412c5a2",
   "metadata": {
    "editable": true,
    "slideshow": {
     "slide_type": ""
    },
    "tags": []
   },
   "source": [
    "For non-gridded data only the \"values\" dimension is genereated and ``flatten_values`` makes no effect."
   ]
  },
  {
   "cell_type": "code",
   "execution_count": 7,
   "id": "9fcf6cbd-687b-4a6d-aefb-eb5e17d1171f",
   "metadata": {
    "editable": true,
    "slideshow": {
     "slide_type": ""
    },
    "tags": []
   },
   "outputs": [
    {
     "data": {
      "text/plain": [
       "(Frozen({'step': 2, 'values': 1122}),\n",
       " Coordinates:\n",
       "   * step     (step) timedelta64[ns] 16B 00:00:00 06:00:00)"
      ]
     },
     "execution_count": 7,
     "metadata": {},
     "output_type": "execute_result"
    }
   ],
   "source": [
    "ds_fl = ekd.from_source(\"sample\", \"sh_t32.grib\")\n",
    "ds_xr = ds_fl.to_xarray()\n",
    "ds_xr.sizes, ds_xr.coords"
   ]
  },
  {
   "cell_type": "code",
   "execution_count": null,
   "id": "ec4d8a72-52f9-4e69-a32f-7c956fd87e58",
   "metadata": {
    "editable": true,
    "slideshow": {
     "slide_type": ""
    },
    "tags": []
   },
   "outputs": [],
   "source": []
  }
 ],
 "metadata": {
  "kernelspec": {
   "display_name": "dev_ecc",
   "language": "python",
   "name": "dev_ecc"
  },
  "language_info": {
   "codemirror_mode": {
    "name": "ipython",
    "version": 3
   },
   "file_extension": ".py",
   "mimetype": "text/x-python",
   "name": "python",
   "nbconvert_exporter": "python",
   "pygments_lexer": "ipython3",
   "version": "3.10.13"
  }
 },
 "nbformat": 4,
 "nbformat_minor": 5
}
