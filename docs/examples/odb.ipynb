{
 "cells": [
  {
   "cell_type": "markdown",
   "id": "4cf9f31e-4b58-43bd-842e-142f0affb4a8",
   "metadata": {
    "editable": true,
    "slideshow": {
     "slide_type": ""
    },
    "tags": []
   },
   "source": [
    "## Using ODB data"
   ]
  },
  {
   "cell_type": "code",
   "execution_count": 1,
   "id": "03108956-3f8e-4132-88e4-7455a4cc78dc",
   "metadata": {},
   "outputs": [],
   "source": [
    "import earthkit.data as ekd\n",
    "ekd.download_example_file(\"test.odb\")"
   ]
  },
  {
   "cell_type": "raw",
   "id": "a9e6621e-5c32-4a0d-a992-209660f58f68",
   "metadata": {
    "editable": true,
    "raw_mimetype": "text/restructuredtext",
    "slideshow": {
     "slide_type": ""
    },
    "tags": []
   },
   "source": [
    "`ODB <https://odc.readthedocs.io/en/latest/content/introduction.html>`_ is a bespoke format developed at ECMWF to store observations. The following code reads some ODB data with :ref:`from_source() <data-sources-file>` from a file containing forecast and analysis departures:"
   ]
  },
  {
   "cell_type": "code",
   "execution_count": 2,
   "id": "d2f705e7-8336-4355-9b60-1fe05d8e23b3",
   "metadata": {
    "editable": true,
    "slideshow": {
     "slide_type": ""
    },
    "tags": []
   },
   "outputs": [],
   "source": [
    "ds = ekd.from_source(\"file\", \"test.odb\")"
   ]
  },
  {
   "cell_type": "markdown",
   "id": "6a0702a9-0b1a-46e6-bac3-71c78050f2e4",
   "metadata": {
    "editable": true,
    "slideshow": {
     "slide_type": ""
    },
    "tags": []
   },
   "source": [
    "*to_pandas()* converts data into a Pandas dataframe (uses [pyodc](https://github.com/ecmwf/pyodc) under the hood):"
   ]
  },
  {
   "cell_type": "code",
   "execution_count": 3,
   "id": "2f252c91-3cc9-46ec-b262-3b2f399ce05d",
   "metadata": {
    "editable": true,
    "slideshow": {
     "slide_type": ""
    },
    "tags": []
   },
   "outputs": [
    {
     "data": {
      "text/html": [
       "<div>\n",
       "<style scoped>\n",
       "    .dataframe tbody tr th:only-of-type {\n",
       "        vertical-align: middle;\n",
       "    }\n",
       "\n",
       "    .dataframe tbody tr th {\n",
       "        vertical-align: top;\n",
       "    }\n",
       "\n",
       "    .dataframe thead th {\n",
       "        text-align: right;\n",
       "    }\n",
       "</style>\n",
       "<table border=\"1\" class=\"dataframe\">\n",
       "  <thead>\n",
       "    <tr style=\"text-align: right;\">\n",
       "      <th></th>\n",
       "      <th>lat</th>\n",
       "      <th>lon</th>\n",
       "      <th>fg_dep</th>\n",
       "      <th>an_dep</th>\n",
       "    </tr>\n",
       "  </thead>\n",
       "  <tbody>\n",
       "    <tr>\n",
       "      <th>0</th>\n",
       "      <td>38.808998</td>\n",
       "      <td>4.292600</td>\n",
       "      <td>0.514543</td>\n",
       "      <td>0.513129</td>\n",
       "    </tr>\n",
       "    <tr>\n",
       "      <th>1</th>\n",
       "      <td>73.693100</td>\n",
       "      <td>-3.416700</td>\n",
       "      <td>-0.098977</td>\n",
       "      <td>-0.123831</td>\n",
       "    </tr>\n",
       "    <tr>\n",
       "      <th>2</th>\n",
       "      <td>31.168501</td>\n",
       "      <td>-29.865499</td>\n",
       "      <td>0.420131</td>\n",
       "      <td>0.389983</td>\n",
       "    </tr>\n",
       "    <tr>\n",
       "      <th>3</th>\n",
       "      <td>49.040798</td>\n",
       "      <td>-19.877501</td>\n",
       "      <td>-0.182703</td>\n",
       "      <td>-0.124131</td>\n",
       "    </tr>\n",
       "    <tr>\n",
       "      <th>4</th>\n",
       "      <td>73.351097</td>\n",
       "      <td>40.176102</td>\n",
       "      <td>0.087687</td>\n",
       "      <td>0.149949</td>\n",
       "    </tr>\n",
       "    <tr>\n",
       "      <th>...</th>\n",
       "      <td>...</td>\n",
       "      <td>...</td>\n",
       "      <td>...</td>\n",
       "      <td>...</td>\n",
       "    </tr>\n",
       "    <tr>\n",
       "      <th>712</th>\n",
       "      <td>45.798801</td>\n",
       "      <td>-0.527100</td>\n",
       "      <td>0.103859</td>\n",
       "      <td>0.132765</td>\n",
       "    </tr>\n",
       "    <tr>\n",
       "      <th>713</th>\n",
       "      <td>73.788597</td>\n",
       "      <td>-8.806200</td>\n",
       "      <td>-0.069707</td>\n",
       "      <td>-0.080577</td>\n",
       "    </tr>\n",
       "    <tr>\n",
       "      <th>714</th>\n",
       "      <td>60.162998</td>\n",
       "      <td>-14.572900</td>\n",
       "      <td>0.138816</td>\n",
       "      <td>0.011107</td>\n",
       "    </tr>\n",
       "    <tr>\n",
       "      <th>715</th>\n",
       "      <td>53.455299</td>\n",
       "      <td>-29.641600</td>\n",
       "      <td>0.082582</td>\n",
       "      <td>0.184872</td>\n",
       "    </tr>\n",
       "    <tr>\n",
       "      <th>716</th>\n",
       "      <td>40.669201</td>\n",
       "      <td>29.702101</td>\n",
       "      <td>-0.023861</td>\n",
       "      <td>-0.032721</td>\n",
       "    </tr>\n",
       "  </tbody>\n",
       "</table>\n",
       "<p>717 rows × 4 columns</p>\n",
       "</div>"
      ],
      "text/plain": [
       "           lat        lon    fg_dep    an_dep\n",
       "0    38.808998   4.292600  0.514543  0.513129\n",
       "1    73.693100  -3.416700 -0.098977 -0.123831\n",
       "2    31.168501 -29.865499  0.420131  0.389983\n",
       "3    49.040798 -19.877501 -0.182703 -0.124131\n",
       "4    73.351097  40.176102  0.087687  0.149949\n",
       "..         ...        ...       ...       ...\n",
       "712  45.798801  -0.527100  0.103859  0.132765\n",
       "713  73.788597  -8.806200 -0.069707 -0.080577\n",
       "714  60.162998 -14.572900  0.138816  0.011107\n",
       "715  53.455299 -29.641600  0.082582  0.184872\n",
       "716  40.669201  29.702101 -0.023861 -0.032721\n",
       "\n",
       "[717 rows x 4 columns]"
      ]
     },
     "execution_count": 3,
     "metadata": {},
     "output_type": "execute_result"
    }
   ],
   "source": [
    "df = ds.to_pandas()\n",
    "df"
   ]
  },
  {
   "cell_type": "markdown",
   "id": "83537ee3-30c8-4797-a550-7387a0e72672",
   "metadata": {},
   "source": [
    "We can directly pass arguments to pyodc. E.g. **columns** specify a subset of the ODB columns we want to extract:"
   ]
  },
  {
   "cell_type": "code",
   "execution_count": 4,
   "id": "fa1f0e84-a66e-426d-9a23-fc4329afd34e",
   "metadata": {},
   "outputs": [
    {
     "data": {
      "text/html": [
       "<div>\n",
       "<style scoped>\n",
       "    .dataframe tbody tr th:only-of-type {\n",
       "        vertical-align: middle;\n",
       "    }\n",
       "\n",
       "    .dataframe tbody tr th {\n",
       "        vertical-align: top;\n",
       "    }\n",
       "\n",
       "    .dataframe thead th {\n",
       "        text-align: right;\n",
       "    }\n",
       "</style>\n",
       "<table border=\"1\" class=\"dataframe\">\n",
       "  <thead>\n",
       "    <tr style=\"text-align: right;\">\n",
       "      <th></th>\n",
       "      <th>lat</th>\n",
       "      <th>lon</th>\n",
       "      <th>an_dep</th>\n",
       "    </tr>\n",
       "  </thead>\n",
       "  <tbody>\n",
       "    <tr>\n",
       "      <th>0</th>\n",
       "      <td>38.808998</td>\n",
       "      <td>4.292600</td>\n",
       "      <td>0.513129</td>\n",
       "    </tr>\n",
       "    <tr>\n",
       "      <th>1</th>\n",
       "      <td>73.693100</td>\n",
       "      <td>-3.416700</td>\n",
       "      <td>-0.123831</td>\n",
       "    </tr>\n",
       "    <tr>\n",
       "      <th>2</th>\n",
       "      <td>31.168501</td>\n",
       "      <td>-29.865499</td>\n",
       "      <td>0.389983</td>\n",
       "    </tr>\n",
       "    <tr>\n",
       "      <th>3</th>\n",
       "      <td>49.040798</td>\n",
       "      <td>-19.877501</td>\n",
       "      <td>-0.124131</td>\n",
       "    </tr>\n",
       "    <tr>\n",
       "      <th>4</th>\n",
       "      <td>73.351097</td>\n",
       "      <td>40.176102</td>\n",
       "      <td>0.149949</td>\n",
       "    </tr>\n",
       "    <tr>\n",
       "      <th>...</th>\n",
       "      <td>...</td>\n",
       "      <td>...</td>\n",
       "      <td>...</td>\n",
       "    </tr>\n",
       "    <tr>\n",
       "      <th>712</th>\n",
       "      <td>45.798801</td>\n",
       "      <td>-0.527100</td>\n",
       "      <td>0.132765</td>\n",
       "    </tr>\n",
       "    <tr>\n",
       "      <th>713</th>\n",
       "      <td>73.788597</td>\n",
       "      <td>-8.806200</td>\n",
       "      <td>-0.080577</td>\n",
       "    </tr>\n",
       "    <tr>\n",
       "      <th>714</th>\n",
       "      <td>60.162998</td>\n",
       "      <td>-14.572900</td>\n",
       "      <td>0.011107</td>\n",
       "    </tr>\n",
       "    <tr>\n",
       "      <th>715</th>\n",
       "      <td>53.455299</td>\n",
       "      <td>-29.641600</td>\n",
       "      <td>0.184872</td>\n",
       "    </tr>\n",
       "    <tr>\n",
       "      <th>716</th>\n",
       "      <td>40.669201</td>\n",
       "      <td>29.702101</td>\n",
       "      <td>-0.032721</td>\n",
       "    </tr>\n",
       "  </tbody>\n",
       "</table>\n",
       "<p>717 rows × 3 columns</p>\n",
       "</div>"
      ],
      "text/plain": [
       "           lat        lon    an_dep\n",
       "0    38.808998   4.292600  0.513129\n",
       "1    73.693100  -3.416700 -0.123831\n",
       "2    31.168501 -29.865499  0.389983\n",
       "3    49.040798 -19.877501 -0.124131\n",
       "4    73.351097  40.176102  0.149949\n",
       "..         ...        ...       ...\n",
       "712  45.798801  -0.527100  0.132765\n",
       "713  73.788597  -8.806200 -0.080577\n",
       "714  60.162998 -14.572900  0.011107\n",
       "715  53.455299 -29.641600  0.184872\n",
       "716  40.669201  29.702101 -0.032721\n",
       "\n",
       "[717 rows x 3 columns]"
      ]
     },
     "execution_count": 4,
     "metadata": {},
     "output_type": "execute_result"
    }
   ],
   "source": [
    "df1 = ds.to_pandas(odc_read_odb_kwargs={\"columns\": (\"lat\", \"lon\", \"an_dep\")})\n",
    "df1"
   ]
  },
  {
   "cell_type": "code",
   "execution_count": null,
   "id": "62568d51-78d6-46f0-852e-3ed1ccef5da5",
   "metadata": {},
   "outputs": [],
   "source": []
  }
 ],
 "metadata": {
  "kernelspec": {
   "display_name": "dev_ecc",
   "language": "python",
   "name": "dev_ecc"
  },
  "language_info": {
   "codemirror_mode": {
    "name": "ipython",
    "version": 3
   },
   "file_extension": ".py",
   "mimetype": "text/x-python",
   "name": "python",
   "nbconvert_exporter": "python",
   "pygments_lexer": "ipython3",
   "version": "3.10.13"
  }
 },
 "nbformat": 4,
 "nbformat_minor": 5
}
