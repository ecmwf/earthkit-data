{
 "cells": [
  {
   "cell_type": "markdown",
   "id": "9c53d7c8-7f38-4a5f-93d0-e05919408b6e",
   "metadata": {
    "editable": true,
    "slideshow": {
     "slide_type": ""
    },
    "tags": []
   },
   "source": [
    "## GRIB: converting to NetCDF"
   ]
  },
  {
   "cell_type": "code",
   "execution_count": 1,
   "id": "950b9aa8-6b76-47f8-b470-17476f99a733",
   "metadata": {},
   "outputs": [],
   "source": [
    "import earthkit.data as ekd\n",
    "ekd.download_example_file(\"tuv_pl.grib\")\n",
    "ds = ekd.from_source(\"file\", \"tuv_pl.grib\")"
   ]
  },
  {
   "cell_type": "raw",
   "id": "d125684b-20c9-49d9-a87c-7880814b60fc",
   "metadata": {
    "editable": true,
    "raw_mimetype": "text/restructuredtext",
    "slideshow": {
     "slide_type": ""
    },
    "tags": []
   },
   "source": [
    "To convert GRIB data to NetCDF first we need to convert GRIB to Xarray with :py:meth:`~data.readers.grib.index.GribFieldList.to_xarray` then generate NetCDF from it with :py:meth:`xarray.Dataset.to_netcdf`. Earthkit-data attaches some special attributes to the generated Xarray dataset that we do not want to write to NetCDF. In order to achieve this we need to call :py:meth:`xarray.Dataset.to_netcdf` on the \"earthkit\" accessor and not directly on the Xarray dataset."
   ]
  },
  {
   "cell_type": "code",
   "execution_count": 2,
   "id": "0efd9676-6c4f-4e07-a14a-a5337de50461",
   "metadata": {
    "editable": true,
    "slideshow": {
     "slide_type": ""
    },
    "tags": []
   },
   "outputs": [],
   "source": [
    "ds.to_xarray().earthkit.to_netcdf(\"_tuv_pl.nc\")"
   ]
  },
  {
   "cell_type": "code",
   "execution_count": 3,
   "id": "a45aa289-8c85-42bd-a637-8999d8720fcf",
   "metadata": {
    "editable": true,
    "slideshow": {
     "slide_type": ""
    },
    "tags": []
   },
   "outputs": [
    {
     "name": "stdout",
     "output_type": "stream",
     "text": [
      "netcdf _tuv_pl {\n",
      "dimensions:\n",
      "\tlevelist = 6 ;\n",
      "\tlatitude = 7 ;\n",
      "\tlongitude = 12 ;\n",
      "variables:\n",
      "\tdouble t(levelist, latitude, longitude) ;\n",
      "\t\tt:_FillValue = NaN ;\n",
      "\t\tt:param = \"t\" ;\n",
      "\t\tt:standard_name = \"air_temperature\" ;\n",
      "\t\tt:long_name = \"Temperature\" ;\n",
      "\t\tt:paramId = 130LL ;\n",
      "\t\tt:units = \"K\" ;\n",
      "\tdouble u(levelist, latitude, longitude) ;\n",
      "\t\tu:_FillValue = NaN ;\n",
      "\t\tu:param = \"u\" ;\n",
      "\t\tu:standard_name = \"eastward_wind\" ;\n",
      "\t\tu:long_name = \"U component of wind\" ;\n",
      "\t\tu:paramId = 131LL ;\n",
      "\t\tu:units = \"m s**-1\" ;\n",
      "\tdouble v(levelist, latitude, longitude) ;\n",
      "\t\tv:_FillValue = NaN ;\n",
      "\t\tv:param = \"v\" ;\n",
      "\t\tv:standard_name = \"northward_wind\" ;\n",
      "\t\tv:long_name = \"V component of wind\" ;\n",
      "\t\tv:paramId = 132LL ;\n",
      "\t\tv:units = \"m s**-1\" ;\n",
      "\tint64 levelist(levelist) ;\n",
      "\t\tlevelist:units = \"hPa\" ;\n",
      "\t\tlevelist:positive = \"down\" ;\n",
      "\t\tlevelist:stored_direction = \"decreasing\" ;\n",
      "\t\tlevelist:standard_name = \"air_pressure\" ;\n",
      "\t\tlevelist:long_name = \"pressure\" ;\n",
      "\tdouble latitude(latitude) ;\n",
      "\t\tlatitude:_FillValue = NaN ;\n",
      "\t\tlatitude:units = \"degrees_north\" ;\n",
      "\t\tlatitude:standard_name = \"latitude\" ;\n",
      "\t\tlatitude:long_name = \"latitude\" ;\n",
      "\tdouble longitude(longitude) ;\n",
      "\t\tlongitude:_FillValue = NaN ;\n",
      "\t\tlongitude:units = \"degrees_east\" ;\n",
      "\t\tlongitude:standard_name = \"longitude\" ;\n",
      "\t\tlongitude:long_name = \"longitude\" ;\n",
      "\n",
      "// global attributes:\n",
      "\t\t:class = \"od\" ;\n",
      "\t\t:stream = \"oper\" ;\n",
      "\t\t:levtype = \"pl\" ;\n",
      "\t\t:type = \"an\" ;\n",
      "\t\t:expver = \"0001\" ;\n",
      "\t\t:date = 20180801LL ;\n",
      "\t\t:time = 1200LL ;\n",
      "\t\t:domain = \"g\" ;\n",
      "\t\t:number = 0LL ;\n",
      "\t\t:Conventions = \"CF-1.8\" ;\n",
      "\t\t:institution = \"ECMWF\" ;\n",
      "}\n",
      "\n"
     ]
    }
   ],
   "source": [
    "from earthkit.data.utils.summary import ncdump \n",
    "ncdump(\"_tuv_pl.nc\")"
   ]
  },
  {
   "cell_type": "code",
   "execution_count": null,
   "id": "8bd59c3f-5a6b-4930-8d49-9d948f640da7",
   "metadata": {
    "editable": true,
    "slideshow": {
     "slide_type": ""
    },
    "tags": []
   },
   "outputs": [],
   "source": []
  }
 ],
 "metadata": {
  "kernelspec": {
   "display_name": "dev_ecc",
   "language": "python",
   "name": "dev_ecc"
  },
  "language_info": {
   "codemirror_mode": {
    "name": "ipython",
    "version": 3
   },
   "file_extension": ".py",
   "mimetype": "text/x-python",
   "name": "python",
   "nbconvert_exporter": "python",
   "pygments_lexer": "ipython3",
   "version": "3.10.13"
  }
 },
 "nbformat": 4,
 "nbformat_minor": 5
}
