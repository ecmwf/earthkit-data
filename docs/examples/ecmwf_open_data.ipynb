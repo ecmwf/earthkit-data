{
 "cells": [
  {
   "cell_type": "markdown",
   "id": "4b884925-f9c8-4f12-a0f5-c5c674437302",
   "metadata": {
    "editable": true,
    "slideshow": {
     "slide_type": ""
    },
    "tags": []
   },
   "source": [
    "## Retrieving ECMWF open data"
   ]
  },
  {
   "cell_type": "raw",
   "id": "e32794dd-b06c-4274-8125-e1b00e01245e",
   "metadata": {
    "editable": true,
    "raw_mimetype": "text/restructuredtext",
    "slideshow": {
     "slide_type": ""
    },
    "tags": []
   },
   "source": [
    "The :ref:`ecmwf-open-data <data-sources-eod>` source provides access to the `ECMWF open data <https://www.ecmwf.int/en/forecasts/datasets/open-data>`_ ."
   ]
  },
  {
   "cell_type": "code",
   "execution_count": 1,
   "id": "f6e081da-e88b-41d5-a914-8f782d50c44f",
   "metadata": {
    "editable": true,
    "slideshow": {
     "slide_type": ""
    },
    "tags": []
   },
   "outputs": [],
   "source": [
    "import earthkit.data as ekd"
   ]
  },
  {
   "cell_type": "code",
   "execution_count": 2,
   "id": "bcc2e1e1-a048-40c5-b830-b8aa601f97ac",
   "metadata": {},
   "outputs": [
    {
     "data": {
      "application/vnd.jupyter.widget-view+json": {
       "model_id": "",
       "version_major": 2,
       "version_minor": 0
      },
      "text/plain": [
       "<multiple>:   0%|          | 0.00/2.82M [00:00<?, ?B/s]"
      ]
     },
     "metadata": {},
     "output_type": "display_data"
    }
   ],
   "source": [
    "ds = ekd.from_source(\"ecmwf-open-data\",  \n",
    "        param=[\"t\", \"gh\"],\n",
    "        levelist=\"500\",\n",
    "        step=[0, 24, 48]\n",
    "       )"
   ]
  },
  {
   "cell_type": "code",
   "execution_count": 3,
   "id": "e505cce0-917c-47bc-ae69-6a172382b069",
   "metadata": {},
   "outputs": [
    {
     "data": {
      "text/html": [
       "<div>\n",
       "<style scoped>\n",
       "    .dataframe tbody tr th:only-of-type {\n",
       "        vertical-align: middle;\n",
       "    }\n",
       "\n",
       "    .dataframe tbody tr th {\n",
       "        vertical-align: top;\n",
       "    }\n",
       "\n",
       "    .dataframe thead th {\n",
       "        text-align: right;\n",
       "    }\n",
       "</style>\n",
       "<table border=\"1\" class=\"dataframe\">\n",
       "  <thead>\n",
       "    <tr style=\"text-align: right;\">\n",
       "      <th></th>\n",
       "      <th>centre</th>\n",
       "      <th>shortName</th>\n",
       "      <th>typeOfLevel</th>\n",
       "      <th>level</th>\n",
       "      <th>dataDate</th>\n",
       "      <th>dataTime</th>\n",
       "      <th>stepRange</th>\n",
       "      <th>dataType</th>\n",
       "      <th>number</th>\n",
       "      <th>gridType</th>\n",
       "    </tr>\n",
       "  </thead>\n",
       "  <tbody>\n",
       "    <tr>\n",
       "      <th>0</th>\n",
       "      <td>ecmf</td>\n",
       "      <td>t</td>\n",
       "      <td>isobaricInhPa</td>\n",
       "      <td>500</td>\n",
       "      <td>20250310</td>\n",
       "      <td>600</td>\n",
       "      <td>0</td>\n",
       "      <td>fc</td>\n",
       "      <td>None</td>\n",
       "      <td>regular_ll</td>\n",
       "    </tr>\n",
       "    <tr>\n",
       "      <th>1</th>\n",
       "      <td>ecmf</td>\n",
       "      <td>gh</td>\n",
       "      <td>isobaricInhPa</td>\n",
       "      <td>500</td>\n",
       "      <td>20250310</td>\n",
       "      <td>600</td>\n",
       "      <td>0</td>\n",
       "      <td>fc</td>\n",
       "      <td>None</td>\n",
       "      <td>regular_ll</td>\n",
       "    </tr>\n",
       "    <tr>\n",
       "      <th>2</th>\n",
       "      <td>ecmf</td>\n",
       "      <td>t</td>\n",
       "      <td>isobaricInhPa</td>\n",
       "      <td>500</td>\n",
       "      <td>20250310</td>\n",
       "      <td>600</td>\n",
       "      <td>24</td>\n",
       "      <td>fc</td>\n",
       "      <td>None</td>\n",
       "      <td>regular_ll</td>\n",
       "    </tr>\n",
       "    <tr>\n",
       "      <th>3</th>\n",
       "      <td>ecmf</td>\n",
       "      <td>gh</td>\n",
       "      <td>isobaricInhPa</td>\n",
       "      <td>500</td>\n",
       "      <td>20250310</td>\n",
       "      <td>600</td>\n",
       "      <td>24</td>\n",
       "      <td>fc</td>\n",
       "      <td>None</td>\n",
       "      <td>regular_ll</td>\n",
       "    </tr>\n",
       "    <tr>\n",
       "      <th>4</th>\n",
       "      <td>ecmf</td>\n",
       "      <td>t</td>\n",
       "      <td>isobaricInhPa</td>\n",
       "      <td>500</td>\n",
       "      <td>20250310</td>\n",
       "      <td>600</td>\n",
       "      <td>48</td>\n",
       "      <td>fc</td>\n",
       "      <td>None</td>\n",
       "      <td>regular_ll</td>\n",
       "    </tr>\n",
       "    <tr>\n",
       "      <th>5</th>\n",
       "      <td>ecmf</td>\n",
       "      <td>gh</td>\n",
       "      <td>isobaricInhPa</td>\n",
       "      <td>500</td>\n",
       "      <td>20250310</td>\n",
       "      <td>600</td>\n",
       "      <td>48</td>\n",
       "      <td>fc</td>\n",
       "      <td>None</td>\n",
       "      <td>regular_ll</td>\n",
       "    </tr>\n",
       "  </tbody>\n",
       "</table>\n",
       "</div>"
      ],
      "text/plain": [
       "  centre shortName    typeOfLevel  level  dataDate  dataTime stepRange  \\\n",
       "0   ecmf         t  isobaricInhPa    500  20250310       600         0   \n",
       "1   ecmf        gh  isobaricInhPa    500  20250310       600         0   \n",
       "2   ecmf         t  isobaricInhPa    500  20250310       600        24   \n",
       "3   ecmf        gh  isobaricInhPa    500  20250310       600        24   \n",
       "4   ecmf         t  isobaricInhPa    500  20250310       600        48   \n",
       "5   ecmf        gh  isobaricInhPa    500  20250310       600        48   \n",
       "\n",
       "  dataType number    gridType  \n",
       "0       fc   None  regular_ll  \n",
       "1       fc   None  regular_ll  \n",
       "2       fc   None  regular_ll  \n",
       "3       fc   None  regular_ll  \n",
       "4       fc   None  regular_ll  \n",
       "5       fc   None  regular_ll  "
      ]
     },
     "execution_count": 3,
     "metadata": {},
     "output_type": "execute_result"
    }
   ],
   "source": [
    "ds.ls()"
   ]
  },
  {
   "cell_type": "code",
   "execution_count": null,
   "id": "e59c45e5-fa81-42ee-9ec8-8d3908f5111e",
   "metadata": {},
   "outputs": [],
   "source": []
  }
 ],
 "metadata": {
  "kernelspec": {
   "display_name": "dev_ecc",
   "language": "python",
   "name": "dev_ecc"
  },
  "language_info": {
   "codemirror_mode": {
    "name": "ipython",
    "version": 3
   },
   "file_extension": ".py",
   "mimetype": "text/x-python",
   "name": "python",
   "nbconvert_exporter": "python",
   "pygments_lexer": "ipython3",
   "version": "3.10.13"
  }
 },
 "nbformat": 4,
 "nbformat_minor": 5
}
