{
 "cells": [
  {
   "cell_type": "markdown",
   "id": "7ec282fb-fdf9-45ba-b3f7-3d46ef212e98",
   "metadata": {
    "editable": true,
    "slideshow": {
     "slide_type": ""
    },
    "tags": []
   },
   "source": [
    "## Retrieving data from the CDS"
   ]
  },
  {
   "cell_type": "raw",
   "id": "589c568f-19c3-4a23-9e7a-37b0220bebfb",
   "metadata": {
    "editable": true,
    "raw_mimetype": "text/restructuredtext",
    "slideshow": {
     "slide_type": ""
    },
    "tags": []
   },
   "source": [
    "The :ref:`cds <data-sources-cds>` data source provides access to the `Copernicus Climate Data Store (CDS) <https://cds.atmosphere.copernicus.eu>`_."
   ]
  },
  {
   "cell_type": "code",
   "execution_count": 1,
   "id": "f24509e0-dd8c-4032-9a3c-5a963ad544d9",
   "metadata": {
    "editable": true,
    "slideshow": {
     "slide_type": ""
    },
    "tags": []
   },
   "outputs": [],
   "source": [
    "import earthkit.data as ekd"
   ]
  },
  {
   "cell_type": "markdown",
   "id": "9f4ce2c9-aaa3-4b76-aacb-1f597df3e338",
   "metadata": {},
   "source": [
    "### Getting GRIB data"
   ]
  },
  {
   "cell_type": "code",
   "execution_count": 2,
   "id": "be1b53fd-4871-4ebf-ae6c-a62fd1117082",
   "metadata": {},
   "outputs": [
    {
     "name": "stderr",
     "output_type": "stream",
     "text": [
      "2025-03-10 15:06:27,897 INFO [2024-09-26T00:00:00] Watch our [Forum](https://forum.ecmwf.int/) for Announcements, news and other discussed topics.\n",
      "2025-03-10 15:06:27,898 WARNING [2024-06-16T00:00:00] CDS API syntax is changed and some keys or parameter names may have also changed. To avoid requests failing, please use the \"Show API request code\" tool on the dataset Download Form to check you are using the correct syntax for your API request.\n"
     ]
    }
   ],
   "source": [
    "ds = ekd.from_source(\"cds\", \n",
    "        \"reanalysis-era5-single-levels\",\n",
    "        variable=[\"2t\", \"msl\"],\n",
    "        product_type=\"reanalysis\",\n",
    "        area=[50, -10, 40, 10], #N,W,S,E \n",
    "        grid=[2, 2],\n",
    "        date=\"2012-05-10\",\n",
    "        time=\"12:00\")"
   ]
  },
  {
   "cell_type": "code",
   "execution_count": 3,
   "id": "09210614-fad6-46cf-915d-aae4a592d2d5",
   "metadata": {},
   "outputs": [
    {
     "data": {
      "text/html": [
       "<div>\n",
       "<style scoped>\n",
       "    .dataframe tbody tr th:only-of-type {\n",
       "        vertical-align: middle;\n",
       "    }\n",
       "\n",
       "    .dataframe tbody tr th {\n",
       "        vertical-align: top;\n",
       "    }\n",
       "\n",
       "    .dataframe thead th {\n",
       "        text-align: right;\n",
       "    }\n",
       "</style>\n",
       "<table border=\"1\" class=\"dataframe\">\n",
       "  <thead>\n",
       "    <tr style=\"text-align: right;\">\n",
       "      <th></th>\n",
       "      <th>centre</th>\n",
       "      <th>shortName</th>\n",
       "      <th>typeOfLevel</th>\n",
       "      <th>level</th>\n",
       "      <th>dataDate</th>\n",
       "      <th>dataTime</th>\n",
       "      <th>stepRange</th>\n",
       "      <th>dataType</th>\n",
       "      <th>number</th>\n",
       "      <th>gridType</th>\n",
       "    </tr>\n",
       "  </thead>\n",
       "  <tbody>\n",
       "    <tr>\n",
       "      <th>0</th>\n",
       "      <td>ecmf</td>\n",
       "      <td>2t</td>\n",
       "      <td>surface</td>\n",
       "      <td>0</td>\n",
       "      <td>20120510</td>\n",
       "      <td>1200</td>\n",
       "      <td>0</td>\n",
       "      <td>an</td>\n",
       "      <td>0</td>\n",
       "      <td>regular_ll</td>\n",
       "    </tr>\n",
       "    <tr>\n",
       "      <th>1</th>\n",
       "      <td>ecmf</td>\n",
       "      <td>msl</td>\n",
       "      <td>surface</td>\n",
       "      <td>0</td>\n",
       "      <td>20120510</td>\n",
       "      <td>1200</td>\n",
       "      <td>0</td>\n",
       "      <td>an</td>\n",
       "      <td>0</td>\n",
       "      <td>regular_ll</td>\n",
       "    </tr>\n",
       "  </tbody>\n",
       "</table>\n",
       "</div>"
      ],
      "text/plain": [
       "  centre shortName typeOfLevel  level  dataDate  dataTime stepRange dataType  \\\n",
       "0   ecmf        2t     surface      0  20120510      1200         0       an   \n",
       "1   ecmf       msl     surface      0  20120510      1200         0       an   \n",
       "\n",
       "   number    gridType  \n",
       "0       0  regular_ll  \n",
       "1       0  regular_ll  "
      ]
     },
     "execution_count": 3,
     "metadata": {},
     "output_type": "execute_result"
    }
   ],
   "source": [
    "ds.ls()"
   ]
  },
  {
   "cell_type": "markdown",
   "id": "eed0bfe1-eb81-4c26-a48b-5150f67bbb79",
   "metadata": {},
   "source": [
    "### Getting NetCDF data"
   ]
  },
  {
   "cell_type": "code",
   "execution_count": 4,
   "id": "47f368bd-64c7-4268-bacf-7f3f1aad1b24",
   "metadata": {},
   "outputs": [
    {
     "name": "stderr",
     "output_type": "stream",
     "text": [
      "2025-03-10 15:06:28,771 INFO [2024-09-26T00:00:00] Watch our [Forum](https://forum.ecmwf.int/) for Announcements, news and other discussed topics.\n",
      "2025-03-10 15:06:28,771 WARNING [2024-06-16T00:00:00] CDS API syntax is changed and some keys or parameter names may have also changed. To avoid requests failing, please use the \"Show API request code\" tool on the dataset Download Form to check you are using the correct syntax for your API request.\n"
     ]
    }
   ],
   "source": [
    "ds1 = ekd.from_source(\"cds\", \n",
    "        \"reanalysis-era5-single-levels\",\n",
    "        variable=[\"2t\", \"msl\"],\n",
    "        product_type=\"reanalysis\",\n",
    "        area=[50, -10, 40, 10], #N,W,S,E \n",
    "        grid=[2, 2],\n",
    "        date=\"2012-05-10\",\n",
    "        time=\"12:00\",\n",
    "        format=\"netcdf\")"
   ]
  },
  {
   "cell_type": "code",
   "execution_count": 5,
   "id": "71d9a8f0-5cc7-45ce-a748-44791d9d1220",
   "metadata": {},
   "outputs": [
    {
     "name": "stdout",
     "output_type": "stream",
     "text": [
      "NetCDFField(t2m,valid_time=2012-05-10 12:00:00)\n",
      "NetCDFField(msl,valid_time=2012-05-10 12:00:00)\n"
     ]
    }
   ],
   "source": [
    "for f in ds1:\n",
    "    print(f)"
   ]
  },
  {
   "cell_type": "code",
   "execution_count": null,
   "id": "5514f18a-0441-4995-8451-4f4fdd54d60f",
   "metadata": {},
   "outputs": [],
   "source": []
  }
 ],
 "metadata": {
  "kernelspec": {
   "display_name": "dev_ecc",
   "language": "python",
   "name": "dev_ecc"
  },
  "language_info": {
   "codemirror_mode": {
    "name": "ipython",
    "version": 3
   },
   "file_extension": ".py",
   "mimetype": "text/x-python",
   "name": "python",
   "nbconvert_exporter": "python",
   "pygments_lexer": "ipython3",
   "version": "3.10.13"
  }
 },
 "nbformat": 4,
 "nbformat_minor": 5
}
