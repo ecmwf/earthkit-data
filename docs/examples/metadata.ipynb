{
 "cells": [
  {
   "cell_type": "markdown",
   "id": "d1a669e9-8daf-4596-ab77-05bb0a732326",
   "metadata": {
    "editable": true,
    "raw_mimetype": "",
    "slideshow": {
     "slide_type": ""
    },
    "tags": []
   },
   "source": [
    "# Metadata"
   ]
  },
  {
   "cell_type": "code",
   "execution_count": 1,
   "id": "94327151-7afc-46f1-84b1-07c080d65e9f",
   "metadata": {
    "editable": true,
    "slideshow": {
     "slide_type": ""
    },
    "tags": []
   },
   "outputs": [],
   "source": [
    "import earthkit.data as ekd"
   ]
  },
  {
   "cell_type": "raw",
   "id": "d53140b9-a2f7-4226-a650-de61ce6762ad",
   "metadata": {
    "editable": true,
    "raw_mimetype": "text/restructuredtext",
    "slideshow": {
     "slide_type": ""
    },
    "tags": []
   },
   "source": [
    "Metadata of the various data formats are represented by :py:class:`~data.core.metadata.Metadata` objects, which are:\n",
    "\n",
    "- immutable\n",
    "- behave like a dict\n",
    "- can be updated with the *override()* method creating a new object\n",
    "- derived from the abstract Metadata base class"
   ]
  },
  {
   "cell_type": "markdown",
   "id": "42b48cb8-7bc5-4471-83e6-a32d924ca7ff",
   "metadata": {
    "editable": true,
    "slideshow": {
     "slide_type": ""
    },
    "tags": []
   },
   "source": [
    "## RawMetadata"
   ]
  },
  {
   "cell_type": "raw",
   "id": "0d96ce25-7b3d-4571-b91d-d63be0f62a8a",
   "metadata": {
    "editable": true,
    "raw_mimetype": "text/restructuredtext",
    "slideshow": {
     "slide_type": ""
    },
    "tags": []
   },
   "source": [
    "The simplest metadata type is :py:class:`~data.core.metadata.RawMetadata`, which we can create in the same way as a dict:"
   ]
  },
  {
   "cell_type": "code",
   "execution_count": 2,
   "id": "c0b8a49f-e181-414b-870c-748efa81f711",
   "metadata": {
    "editable": true,
    "slideshow": {
     "slide_type": ""
    },
    "tags": []
   },
   "outputs": [],
   "source": [
    "from earthkit.data.core.metadata import RawMetadata\n",
    "\n",
    "# from dict\n",
    "md = RawMetadata({\"shortName\": \"2t\", \"perturbationNumber\": 5})\n",
    "\n",
    "# from list of key/value pairs\n",
    "md = RawMetadata([(\"shortName\", \"2t\"), (\"perturbationNumber\", 5)])\n",
    "\n",
    "# from keyword arguments                 \n",
    "md = RawMetadata(shortName=\"2t\", perturbationNumber=5)"
   ]
  },
  {
   "cell_type": "code",
   "execution_count": 3,
   "id": "440a820a-ccb4-4346-81f5-4b9a7b2d67a1",
   "metadata": {},
   "outputs": [
    {
     "data": {
      "text/plain": [
       "RawMetadata({'shortName': '2t', 'perturbationNumber': 5})"
      ]
     },
     "execution_count": 3,
     "metadata": {},
     "output_type": "execute_result"
    }
   ],
   "source": [
    "md"
   ]
  },
  {
   "cell_type": "markdown",
   "id": "9ddacb9a-cb10-42d2-b67e-1e392508b73b",
   "metadata": {},
   "source": [
    "#### Value access"
   ]
  },
  {
   "cell_type": "raw",
   "id": "d10d7315-5eb7-4e03-8c46-e10447389d5a",
   "metadata": {
    "editable": true,
    "raw_mimetype": "text/restructuredtext",
    "slideshow": {
     "slide_type": ""
    },
    "tags": []
   },
   "source": [
    "We can get the value for a key using *[]* and :py:meth:`~data.core.metadata.RawMetadata.get` just like for a dict:"
   ]
  },
  {
   "cell_type": "code",
   "execution_count": 4,
   "id": "fbc16f06-af69-4c6d-91e0-a6c6f9250d09",
   "metadata": {
    "editable": true,
    "slideshow": {
     "slide_type": ""
    },
    "tags": []
   },
   "outputs": [
    {
     "name": "stdout",
     "output_type": "stream",
     "text": [
      "2t\n",
      "2t\n"
     ]
    }
   ],
   "source": [
    "print(md[\"shortName\"])\n",
    "print(md.get(\"shortName\"))"
   ]
  },
  {
   "cell_type": "markdown",
   "id": "485344b9-afb7-401b-abc4-81c645a687ce",
   "metadata": {},
   "source": [
    "When a key is not available [] raises a KeyError."
   ]
  },
  {
   "cell_type": "code",
   "execution_count": 5,
   "id": "063c7576-781c-47bf-b998-7c3df2532c09",
   "metadata": {},
   "outputs": [
    {
     "name": "stdout",
     "output_type": "stream",
     "text": [
      "KeyError: 'nonExistentKey'\n"
     ]
    }
   ],
   "source": [
    "try:\n",
    "    md[\"nonExistentKey\"]\n",
    "except KeyError as e:\n",
    "    print(f\"KeyError: {e}\")"
   ]
  },
  {
   "cell_type": "raw",
   "id": "7d322f02-34ef-47ab-bf67-77503ebf3d5a",
   "metadata": {
    "editable": true,
    "raw_mimetype": "text/restructuredtext",
    "slideshow": {
     "slide_type": ""
    },
    "tags": []
   },
   "source": [
    ":py:meth:`~data.core.metadata.RawMetadata.get` can take a default value as a second argument. When the key is not available the default value is returned. If default is not given, it defaults to None, so that this method never raises a KeyError."
   ]
  },
  {
   "cell_type": "code",
   "execution_count": 6,
   "id": "a1d2c43f-0b90-4f01-a6c8-f81f5c9d9dea",
   "metadata": {
    "editable": true,
    "slideshow": {
     "slide_type": ""
    },
    "tags": []
   },
   "outputs": [
    {
     "name": "stdout",
     "output_type": "stream",
     "text": [
      "None\n",
      "12\n"
     ]
    }
   ],
   "source": [
    "print(md.get(\"nonExistentKey\"))\n",
    "print(md.get(\"nonExistentKey\", 12))"
   ]
  },
  {
   "cell_type": "markdown",
   "id": "9aa6981a-bbb4-4988-bab8-4cacc654c32d",
   "metadata": {},
   "source": [
    "#### Iteration"
   ]
  },
  {
   "cell_type": "code",
   "execution_count": 7,
   "id": "fd9574c9-adb2-4c6d-8b10-281a403b3b42",
   "metadata": {},
   "outputs": [
    {
     "data": {
      "text/plain": [
       "['shortName', 'perturbationNumber']"
      ]
     },
     "execution_count": 7,
     "metadata": {},
     "output_type": "execute_result"
    }
   ],
   "source": [
    "list(md.keys())"
   ]
  },
  {
   "cell_type": "code",
   "execution_count": 8,
   "id": "45b9c42b-18d6-4b29-8f50-1e72e07f1663",
   "metadata": {},
   "outputs": [
    {
     "name": "stdout",
     "output_type": "stream",
     "text": [
      "shortName: 2t\n",
      "perturbationNumber: 5\n"
     ]
    }
   ],
   "source": [
    "for k,v in md.items():\n",
    "    print(f\"{k}: {v}\")"
   ]
  },
  {
   "cell_type": "markdown",
   "id": "c0758e40-2544-4866-b10e-d8a89838c31e",
   "metadata": {},
   "source": [
    "#### Override"
   ]
  },
  {
   "cell_type": "raw",
   "id": "67ef7d14-131a-4de4-ba38-b630e9e9dd82",
   "metadata": {
    "editable": true,
    "raw_mimetype": "text/restructuredtext",
    "slideshow": {
     "slide_type": ""
    },
    "tags": []
   },
   "source": [
    "The metadata object is immutable but we can use :py:meth:`~data.core.metadata.RawMetadata.override` to create a new object with a modified content:"
   ]
  },
  {
   "cell_type": "code",
   "execution_count": 9,
   "id": "5cd1240f-e3e0-420a-babc-b2233c7d0c55",
   "metadata": {
    "editable": true,
    "slideshow": {
     "slide_type": ""
    },
    "tags": []
   },
   "outputs": [],
   "source": [
    "md1 = md.override({\"shortName\": \"2d\", \"step\": 6})"
   ]
  },
  {
   "cell_type": "code",
   "execution_count": 10,
   "id": "e566d9ae-f491-42c9-bc82-9986e82800c1",
   "metadata": {},
   "outputs": [
    {
     "data": {
      "text/plain": [
       "RawMetadata({'shortName': '2d', 'perturbationNumber': 5, 'step': 6})"
      ]
     },
     "execution_count": 10,
     "metadata": {},
     "output_type": "execute_result"
    }
   ],
   "source": [
    "md1"
   ]
  },
  {
   "cell_type": "markdown",
   "id": "3c6ebe6f-c598-4a6b-a755-b8fc4a9ae6a1",
   "metadata": {},
   "source": [
    "The original metadata object did not change:"
   ]
  },
  {
   "cell_type": "code",
   "execution_count": 11,
   "id": "fae4ae6c-7fe3-4d58-98f3-127262e2357e",
   "metadata": {},
   "outputs": [
    {
     "data": {
      "text/plain": [
       "RawMetadata({'shortName': '2t', 'perturbationNumber': 5})"
      ]
     },
     "execution_count": 11,
     "metadata": {},
     "output_type": "execute_result"
    }
   ],
   "source": [
    "md"
   ]
  },
  {
   "cell_type": "markdown",
   "id": "44275c78-9a94-402f-a6a9-629f14bf325b",
   "metadata": {},
   "source": [
    "## GribMetadata"
   ]
  },
  {
   "cell_type": "markdown",
   "id": "cbb338e2-e1ed-4bd3-bd36-74518ff89323",
   "metadata": {},
   "source": [
    "For this exercise we read a GRIB file containing 4 messages:"
   ]
  },
  {
   "cell_type": "code",
   "execution_count": 12,
   "id": "88c0ec56-9d8c-4b4d-b660-24b2495d13ec",
   "metadata": {},
   "outputs": [
    {
     "data": {
      "text/html": [
       "<div>\n",
       "<style scoped>\n",
       "    .dataframe tbody tr th:only-of-type {\n",
       "        vertical-align: middle;\n",
       "    }\n",
       "\n",
       "    .dataframe tbody tr th {\n",
       "        vertical-align: top;\n",
       "    }\n",
       "\n",
       "    .dataframe thead th {\n",
       "        text-align: right;\n",
       "    }\n",
       "</style>\n",
       "<table border=\"1\" class=\"dataframe\">\n",
       "  <thead>\n",
       "    <tr style=\"text-align: right;\">\n",
       "      <th></th>\n",
       "      <th>centre</th>\n",
       "      <th>shortName</th>\n",
       "      <th>typeOfLevel</th>\n",
       "      <th>level</th>\n",
       "      <th>dataDate</th>\n",
       "      <th>dataTime</th>\n",
       "      <th>stepRange</th>\n",
       "      <th>dataType</th>\n",
       "      <th>number</th>\n",
       "      <th>gridType</th>\n",
       "    </tr>\n",
       "  </thead>\n",
       "  <tbody>\n",
       "    <tr>\n",
       "      <th>0</th>\n",
       "      <td>ecmf</td>\n",
       "      <td>t</td>\n",
       "      <td>isobaricInhPa</td>\n",
       "      <td>500</td>\n",
       "      <td>20070101</td>\n",
       "      <td>1200</td>\n",
       "      <td>0</td>\n",
       "      <td>an</td>\n",
       "      <td>0</td>\n",
       "      <td>regular_ll</td>\n",
       "    </tr>\n",
       "    <tr>\n",
       "      <th>1</th>\n",
       "      <td>ecmf</td>\n",
       "      <td>z</td>\n",
       "      <td>isobaricInhPa</td>\n",
       "      <td>500</td>\n",
       "      <td>20070101</td>\n",
       "      <td>1200</td>\n",
       "      <td>0</td>\n",
       "      <td>an</td>\n",
       "      <td>0</td>\n",
       "      <td>regular_ll</td>\n",
       "    </tr>\n",
       "    <tr>\n",
       "      <th>2</th>\n",
       "      <td>ecmf</td>\n",
       "      <td>t</td>\n",
       "      <td>isobaricInhPa</td>\n",
       "      <td>850</td>\n",
       "      <td>20070101</td>\n",
       "      <td>1200</td>\n",
       "      <td>0</td>\n",
       "      <td>an</td>\n",
       "      <td>0</td>\n",
       "      <td>regular_ll</td>\n",
       "    </tr>\n",
       "    <tr>\n",
       "      <th>3</th>\n",
       "      <td>ecmf</td>\n",
       "      <td>z</td>\n",
       "      <td>isobaricInhPa</td>\n",
       "      <td>850</td>\n",
       "      <td>20070101</td>\n",
       "      <td>1200</td>\n",
       "      <td>0</td>\n",
       "      <td>an</td>\n",
       "      <td>0</td>\n",
       "      <td>regular_ll</td>\n",
       "    </tr>\n",
       "  </tbody>\n",
       "</table>\n",
       "</div>"
      ],
      "text/plain": [
       "  centre shortName    typeOfLevel  level  dataDate  dataTime stepRange  \\\n",
       "0   ecmf         t  isobaricInhPa    500  20070101      1200         0   \n",
       "1   ecmf         z  isobaricInhPa    500  20070101      1200         0   \n",
       "2   ecmf         t  isobaricInhPa    850  20070101      1200         0   \n",
       "3   ecmf         z  isobaricInhPa    850  20070101      1200         0   \n",
       "\n",
       "  dataType  number    gridType  \n",
       "0       an       0  regular_ll  \n",
       "1       an       0  regular_ll  \n",
       "2       an       0  regular_ll  \n",
       "3       an       0  regular_ll  "
      ]
     },
     "execution_count": 12,
     "metadata": {},
     "output_type": "execute_result"
    }
   ],
   "source": [
    "ekd.download_example_file(\"test4.grib\")\n",
    "ds = ekd.from_source(\"file\", \"test4.grib\")\n",
    "ds.ls()"
   ]
  },
  {
   "cell_type": "raw",
   "id": "9c3850ea-1ac6-4d0f-8c3d-5c1b6375208b",
   "metadata": {
    "editable": true,
    "raw_mimetype": "text/restructuredtext",
    "slideshow": {
     "slide_type": ""
    },
    "tags": []
   },
   "source": [
    "We cannot create GRIB metadata object from a dict or :py:class:`~data.core.metadata.RawMetadata`, but can get it from a GRIB field. The resulting :py:class:`~data.readers.grib.metadata.GribMetadata` instance will store a reference to the ecCodes handle of its parent field."
   ]
  },
  {
   "cell_type": "code",
   "execution_count": 13,
   "id": "d9e78ce1-a8af-4635-8fb3-8b8c3d486710",
   "metadata": {
    "editable": true,
    "slideshow": {
     "slide_type": ""
    },
    "tags": []
   },
   "outputs": [],
   "source": [
    "md = ds[0].metadata()"
   ]
  },
  {
   "cell_type": "raw",
   "id": "9b98cfb0-a283-4ab3-9471-d805ed01eb70",
   "metadata": {
    "editable": true,
    "raw_mimetype": "text/restructuredtext",
    "slideshow": {
     "slide_type": ""
    },
    "tags": []
   },
   "source": [
    ":py:class:`~data.readers.grib.metadata.GribMetadata` works like a dict:"
   ]
  },
  {
   "cell_type": "code",
   "execution_count": 14,
   "id": "05a8b857-e3d5-40a6-8201-adafe0239c74",
   "metadata": {
    "editable": true,
    "slideshow": {
     "slide_type": ""
    },
    "tags": []
   },
   "outputs": [
    {
     "name": "stdout",
     "output_type": "stream",
     "text": [
      "t\n",
      "t\n",
      "None\n",
      "12\n"
     ]
    }
   ],
   "source": [
    "print(md[\"shortName\"])\n",
    "print(md.get(\"shortName\"))\n",
    "print(md.get(\"nonExistentKey\"))\n",
    "print(md.get(\"nonExistentKey\", 12))"
   ]
  },
  {
   "cell_type": "raw",
   "id": "8bd7cd30-9c59-44e3-a845-a6f41dff9236",
   "metadata": {
    "editable": true,
    "raw_mimetype": "text/restructuredtext",
    "slideshow": {
     "slide_type": ""
    },
    "tags": []
   },
   "source": [
    "However, it is also aware of the :xref:`eccodes_namespace`\\s, when we use :py:meth:`~data.readers.grib.metadata.GribMetadata.as_namespace` or :py:meth:`~data.readers.grib.metadata.GribMetadata.dump`. "
   ]
  },
  {
   "cell_type": "code",
   "execution_count": 15,
   "id": "f3c0c9da-0c41-4c39-8094-b2b8a50f1680",
   "metadata": {
    "editable": true,
    "slideshow": {
     "slide_type": ""
    },
    "tags": []
   },
   "outputs": [
    {
     "data": {
      "text/plain": [
       "{'typeOfLevel': 'isobaricInhPa', 'level': 500}"
      ]
     },
     "execution_count": 15,
     "metadata": {},
     "output_type": "execute_result"
    }
   ],
   "source": [
    "md.as_namespace(\"vertical\")"
   ]
  },
  {
   "cell_type": "code",
   "execution_count": 16,
   "id": "6fcf977a-f1e5-44ba-8d0b-549c018b3551",
   "metadata": {},
   "outputs": [
    {
     "data": {
      "text/html": [
       "<style type=\"text/css\"> /* Based on:\n",
       " https://codepen.io/htmlcssfreebies/pen/WNpVeRK\n",
       " https://github.com/pydata/xarray/blob/main/xarray/static/css/style.css\n",
       " */\n",
       "\n",
       " :root {\n",
       "    --eh-font-color0: var(--jp-content-font-color0, rgba(0, 0, 0, 1));\n",
       "    --eh-font-color2: var(--jp-content-font-color2, rgba(0, 0, 0, 0.54));\n",
       "    --eh-font-color3: var(--jp-content-font-color3, rgba(0, 0, 0, 0.38));\n",
       "    --eh-border-color: var(--jp-border-color2, #e0e0e0);\n",
       "    --eh-disabled-color: var(--jp-layout-color3, #bdbdbd);\n",
       "    --eh-background-color: var(--jp-layout-color0, white);\n",
       "  }\n",
       "\n",
       "html[theme=dark],\n",
       "body[data-theme=dark],\n",
       "body.vscode-dark {\n",
       "  --eh-font-color0: rgba(255, 255, 255, 1);\n",
       "  --eh-font-color2: rgba(255, 255, 255, 0.54);\n",
       "  --eh-font-color3: rgba(255, 255, 255, 0.38);\n",
       "  --eh-border-color: #1F1F1F;\n",
       "  --eh-disabled-color: #515151;\n",
       "  --eh-background-color: #111111;\n",
       "}\n",
       "\n",
       " /* Reset */\n",
       " *,\n",
       " *::before,\n",
       " *::after {\n",
       "     box-sizing: border-box;\n",
       " }\n",
       "\n",
       " .eh-description {\n",
       "    color: var(--eh-font-color2);\n",
       " }\n",
       "\n",
       " .eh-section {\n",
       "    padding-left: 0px;\n",
       " }\n",
       "\n",
       " /* Tabs Container */\n",
       " .eh-tabs-container {\n",
       "     padding: 0px;\n",
       " }\n",
       "\n",
       " /* Tabs Block */\n",
       " .eh-tabs-block {\n",
       "     display: flex;\n",
       "     align-items: center;\n",
       "     justify-content: center;\n",
       "     padding-top: 4px;\n",
       " }\n",
       "\n",
       " /* Tabs */\n",
       " .eh-tabs {\n",
       "     display: flex;\n",
       "     flex-wrap: wrap;\n",
       "     width: 100%;\n",
       " }\n",
       "\n",
       " .eh-tabs label {\n",
       "     width: 100%;\n",
       "     display: flex;\n",
       "     align-items: center;\n",
       "     justify-content: center;\n",
       "     padding-left: 6px;\n",
       "     padding-right: 6px;\n",
       "     font-weight: 400;\n",
       "     cursor: pointer;\n",
       "     color: var(--eh-font-color2);\n",
       "     background-color: var(--eh-background-color);\n",
       "     border-top: 1px solid var(--eh-background-color);\n",
       "     border-bottom: 1px solid var(--eh-disabled-color);\n",
       " }\n",
       "\n",
       " /* Tab page contents */\n",
       " .eh-tabs .tab {\n",
       "     flex-grow: 1;\n",
       "     width: 100%;\n",
       "     height: 100%;\n",
       "     display: none;\n",
       "     padding: 2px 2px;\n",
       " }\n",
       "\n",
       " .eh-tabs [type=radio] {\n",
       "     display: none;\n",
       " }\n",
       "\n",
       " .eh-tabs [type=radio]:checked + label {\n",
       "     font-weight: 500;\n",
       "     color: var(--eh-font-color0);\n",
       "     border: 1px solid var(--eh-disabled-color);\n",
       " }\n",
       "\n",
       " .eh-tabs [type=radio]:checked + label + .tab {\n",
       "     display: block;\n",
       " }\n",
       "\n",
       " .eh-tabs [type=radio]:not(:checked) + label:hover {\n",
       "    color: var(--xr-font-color0);\n",
       " }\n",
       "\n",
       "\n",
       " @media (min-width: 768px) {\n",
       "\n",
       "     .eh-tabs-container {\n",
       "         padding: 1rem 1rem;\n",
       "     }\n",
       "\n",
       "     .eh-tabs label {\n",
       "         order: 1;\n",
       "         width: auto;\n",
       "     }\n",
       "\n",
       "     .eh-tabs .tab {\n",
       "         order: 9;\n",
       "     }\n",
       "\n",
       "     .eh-tabs [type=radio]:checked + label {\n",
       "         border-bottom: none;\n",
       "     }\n",
       " }\n",
       " @media (min-width: 992px) {\n",
       "\n",
       "     .eh-tabs {\n",
       "         width: 800px;\n",
       "     }\n",
       " }\n",
       "</style><div class=\"eh-description\">GribFieldMetadata</div>\n",
       "<div>\n",
       "<section class=\"eh-section>\n",
       "<div class=\"eh-tabs-container\">\n",
       "<div class=\"eh-tabs-block\">\n",
       "<div class=\"eh-tabs\">\n",
       "\n",
       "<input type=\"radio\" name=\"eh-tabs\" id=\"d1c6a1e0-437e-4772-a6bf-a8ca084349d1\"  />\n",
       "<label for=\"d1c6a1e0-437e-4772-a6bf-a8ca084349d1\" title=\"Keys in the ecCodes default namespace\">default</label>\n",
       "<div class=\"tab\">\n",
       "<style type=\"text/css\">table.ek td {\n",
       "    vertical-align: top;\n",
       "    text-align: left !important;\n",
       "}\n",
       "\n",
       "table.ek th {\n",
       "    vertical-align: top;\n",
       "    text-align: left !important;\n",
       "}\n",
       "</style>\n",
       "<table class=\"eh-table\">\n",
       "<tr><td><b>globalDomain</b></td><td>g</td></tr> <tr><td><b>GRIBEditionNumber</b></td><td>1</td></tr> <tr><td><b>eps</b></td><td>0</td></tr> <tr><td><b>offsetSection0</b></td><td>0</td></tr> <tr><td><b>section0Length</b></td><td>8</td></tr> <tr><td><b>totalLength</b></td><td>130428</td></tr> <tr><td><b>editionNumber</b></td><td>1</td></tr> <tr><td><b>WMO</b></td><td>0</td></tr> <tr><td><b>productionStatusOfProcessedData</b></td><td>0</td></tr> <tr><td><b>section1Length</b></td><td>52</td></tr> <tr><td><b>wrongPadding</b></td><td>0</td></tr> <tr><td><b>table2Version</b></td><td>128</td></tr> <tr><td><b>centre</b></td><td>ecmf</td></tr> <tr><td><b>centreDescription</b></td><td>European Centre for Medium-Range Weather Forecasts</td></tr> <tr><td><b>generatingProcessIdentifier</b></td><td>145</td></tr> <tr><td><b>gridDefinition</b></td><td>255</td></tr> <tr><td><b>indicatorOfParameter</b></td><td>130</td></tr> <tr><td><b>parameterName</b></td><td>Temperature</td></tr> <tr><td><b>parameterUnits</b></td><td>K</td></tr> <tr><td><b>indicatorOfTypeOfLevel</b></td><td>pl</td></tr> <tr><td><b>pressureUnits</b></td><td>hPa</td></tr> <tr><td><b>typeOfLevelECMF</b></td><td>isobaricInhPa</td></tr> <tr><td><b>typeOfLevel</b></td><td>isobaricInhPa</td></tr> <tr><td><b>level</b></td><td>500</td></tr> <tr><td><b>yearOfCentury</b></td><td>7</td></tr> <tr><td><b>month</b></td><td>1</td></tr> <tr><td><b>day</b></td><td>1</td></tr> <tr><td><b>hour</b></td><td>12</td></tr> <tr><td><b>minute</b></td><td>0</td></tr> <tr><td><b>second</b></td><td>0</td></tr> <tr><td><b>unitOfTimeRange</b></td><td>1</td></tr> <tr><td><b>P1</b></td><td>0</td></tr> <tr><td><b>P2</b></td><td>0</td></tr> <tr><td><b>timeRangeIndicator</b></td><td>0</td></tr> <tr><td><b>numberIncludedInAverage</b></td><td>0</td></tr> <tr><td><b>numberMissingFromAveragesOrAccumulations</b></td><td>0</td></tr> <tr><td><b>centuryOfReferenceTimeOfData</b></td><td>21</td></tr> <tr><td><b>subCentre</b></td><td>0</td></tr> <tr><td><b>paramIdECMF</b></td><td>130</td></tr> <tr><td><b>paramId</b></td><td>130</td></tr> <tr><td><b>cfNameECMF</b></td><td>air_temperature</td></tr> <tr><td><b>cfName</b></td><td>air_temperature</td></tr> <tr><td><b>unitsECMF</b></td><td>K</td></tr> <tr><td><b>units</b></td><td>K</td></tr> <tr><td><b>nameECMF</b></td><td>Temperature</td></tr> <tr><td><b>name</b></td><td>Temperature</td></tr> <tr><td><b>decimalScaleFactor</b></td><td>0</td></tr> <tr><td><b>setLocalDefinition</b></td><td>0</td></tr> <tr><td><b>optimizeScaleFactor</b></td><td>0</td></tr> <tr><td><b>dataDate</b></td><td>20070101</td></tr> <tr><td><b>year</b></td><td>2007</td></tr> <tr><td><b>dataTime</b></td><td>1200</td></tr> <tr><td><b>julianDay</b></td><td>2454102.0</td></tr> <tr><td><b>stepUnits</b></td><td>1</td></tr> <tr><td><b>stepType</b></td><td>instant</td></tr> <tr><td><b>stepRange</b></td><td>0</td></tr> <tr><td><b>startStep</b></td><td>0</td></tr> <tr><td><b>endStep</b></td><td>0</td></tr> <tr><td><b>marsParam</b></td><td>130.128</td></tr> <tr><td><b>validityDate</b></td><td>20070101</td></tr> <tr><td><b>validityTime</b></td><td>1200</td></tr> <tr><td><b>validityDateTime</b></td><td>2454101.5083333333</td></tr> <tr><td><b>deleteLocalDefinition</b></td><td>0</td></tr> <tr><td><b>localUsePresent</b></td><td>1</td></tr> <tr><td><b>reservedNeedNotBePresent</b></td><td>['']</td></tr> <tr><td><b>localDefinitionNumber</b></td><td>1</td></tr> <tr><td><b>GRIBEXSection1Problem</b></td><td>0</td></tr> <tr><td><b>marsClass</b></td><td>ea</td></tr> <tr><td><b>marsType</b></td><td>an</td></tr> <tr><td><b>marsStream</b></td><td>oper</td></tr> <tr><td><b>experimentVersionNumber</b></td><td>0001</td></tr> <tr><td><b>perturbationNumber</b></td><td>0</td></tr> <tr><td><b>numberOfForecastsInEnsemble</b></td><td>0</td></tr> <tr><td><b>padding_local1_1</b></td><td>00</td></tr> <tr><td><b>grib2LocalSectionNumber</b></td><td>1</td></tr> <tr><td><b>localExtensionPadding</b></td><td></td></tr> <tr><td><b>_x</b></td><td>None</td></tr> <tr><td><b>section1Padding</b></td><td></td></tr> <tr><td><b>shortNameECMF</b></td><td>t</td></tr> <tr><td><b>shortName</b></td><td>t</td></tr> <tr><td><b>cfVarNameECMF</b></td><td>t</td></tr> <tr><td><b>cfVarName</b></td><td>t</td></tr> <tr><td><b>ifsParam</b></td><td>130</td></tr> <tr><td><b>stepTypeForConversion</b></td><td>unknown</td></tr> <tr><td><b>md5Section1</b></td><td>e4c6d9f0d01b01247d9c57dad662ee30</td></tr> <tr><td><b>md5Product</b></td><td>ed3159ec68703fb0415e15e859b4eb02</td></tr> <tr><td><b>paramIdForConversion</b></td><td>0</td></tr> <tr><td><b>gridDescriptionSectionPresent</b></td><td>1</td></tr> <tr><td><b>bitmapPresent</b></td><td>0</td></tr> <tr><td><b>angleSubdivisions</b></td><td>1000</td></tr> <tr><td><b>section2Length</b></td><td>32</td></tr> <tr><td><b>radius</b></td><td>6367470</td></tr> <tr><td><b>numberOfVerticalCoordinateValues</b></td><td>0</td></tr> <tr><td><b>neitherPresent</b></td><td>255</td></tr> <tr><td><b>pvlLocation</b></td><td>255</td></tr> <tr><td><b>dataRepresentationType</b></td><td>0</td></tr> <tr><td><b>gridDefinitionDescription</b></td><td>Latitude/Longitude Grid</td></tr> <tr><td><b>gridDefinitionTemplateNumber</b></td><td>0</td></tr> <tr><td><b>Ni</b></td><td>360</td></tr> <tr><td><b>Nj</b></td><td>181</td></tr> <tr><td><b>latitudeOfFirstGridPoint</b></td><td>90000</td></tr> <tr><td><b>latitudeOfFirstGridPointInDegrees</b></td><td>90.0</td></tr> <tr><td><b>longitudeOfFirstGridPoint</b></td><td>0</td></tr> <tr><td><b>longitudeOfFirstGridPointInDegrees</b></td><td>0.0</td></tr> <tr><td><b>resolutionAndComponentFlags</b></td><td>128</td></tr> <tr><td><b>ijDirectionIncrementGiven</b></td><td>1</td></tr> <tr><td><b>earthIsOblate</b></td><td>0</td></tr> <tr><td><b>resolutionAndComponentFlags3</b></td><td>0</td></tr> <tr><td><b>resolutionAndComponentFlags4</b></td><td>0</td></tr> <tr><td><b>uvRelativeToGrid</b></td><td>0</td></tr> <tr><td><b>resolutionAndComponentFlags6</b></td><td>0</td></tr> <tr><td><b>resolutionAndComponentFlags7</b></td><td>0</td></tr> <tr><td><b>resolutionAndComponentFlags8</b></td><td>0</td></tr> <tr><td><b>latitudeOfLastGridPoint</b></td><td>-90000</td></tr> <tr><td><b>latitudeOfLastGridPointInDegrees</b></td><td>-90.0</td></tr> <tr><td><b>longitudeOfLastGridPoint</b></td><td>359000</td></tr> <tr><td><b>longitudeOfLastGridPointInDegrees</b></td><td>359.0</td></tr> <tr><td><b>iDirectionIncrement</b></td><td>1000</td></tr> <tr><td><b>jDirectionIncrement</b></td><td>1000</td></tr> <tr><td><b>isGridded</b></td><td>1</td></tr> <tr><td><b>scanningMode</b></td><td>0</td></tr> <tr><td><b>iScansNegatively</b></td><td>0</td></tr> <tr><td><b>jScansPositively</b></td><td>0</td></tr> <tr><td><b>jPointsAreConsecutive</b></td><td>0</td></tr> <tr><td><b>alternativeRowScanning</b></td><td>0</td></tr> <tr><td><b>iScansPositively</b></td><td>1</td></tr> <tr><td><b>jScansNegatively</b></td><td>1</td></tr> <tr><td><b>scanningMode4</b></td><td>0</td></tr> <tr><td><b>scanningMode5</b></td><td>0</td></tr> <tr><td><b>scanningMode6</b></td><td>0</td></tr> <tr><td><b>scanningMode7</b></td><td>0</td></tr> <tr><td><b>scanningMode8</b></td><td>0</td></tr> <tr><td><b>swapScanningAlternativeRows</b></td><td>0</td></tr> <tr><td><b>jDirectionIncrementInDegrees</b></td><td>1.0</td></tr> <tr><td><b>iDirectionIncrementInDegrees</b></td><td>1.0</td></tr> <tr><td><b>numberOfDataPoints</b></td><td>65160</td></tr> <tr><td><b>numberOfValues</b></td><td>65160</td></tr> <tr><td><b>zeros</b></td><td></td></tr> <tr><td><b>PVPresent</b></td><td>0</td></tr> <tr><td><b>padding_sec2_2</b></td><td></td></tr> <tr><td><b>PLPresent</b></td><td>0</td></tr> <tr><td><b>padding_sec2_1</b></td><td></td></tr> <tr><td><b>deletePV</b></td><td>1</td></tr> <tr><td><b>padding_sec2_3</b></td><td></td></tr> <tr><td><b>md5Section2</b></td><td>d0ccb07e4b36a8911817cc07539cf859</td></tr> <tr><td><b>isSpectral</b></td><td>0</td></tr> <tr><td><b>lengthOfHeaders</b></td><td>85</td></tr> <tr><td><b>md5Headers</b></td><td>b2ff552cc12a4ea08bfbd989ed20c0fb</td></tr> <tr><td><b>missingValue</b></td><td>9999</td></tr> <tr><td><b>tableReference</b></td><td>0</td></tr> <tr><td><b>section4Length</b></td><td>130332</td></tr> <tr><td><b>halfByte</b></td><td>8</td></tr> <tr><td><b>dataFlag</b></td><td>8</td></tr> <tr><td><b>binaryScaleFactor</b></td><td>-10</td></tr> <tr><td><b>referenceValue</b></td><td>224.05772399902344</td></tr> <tr><td><b>referenceValueError</b></td><td>1.52587890625e-05</td></tr> <tr><td><b>sphericalHarmonics</b></td><td>0</td></tr> <tr><td><b>complexPacking</b></td><td>0</td></tr> <tr><td><b>integerPointValues</b></td><td>0</td></tr> <tr><td><b>additionalFlagPresent</b></td><td>0</td></tr> <tr><td><b>orderOfSPD</b></td><td>2</td></tr> <tr><td><b>boustrophedonic</b></td><td>0</td></tr> <tr><td><b>hideThis</b></td><td>0</td></tr> <tr><td><b>packingType</b></td><td>grid_simple</td></tr> <tr><td><b>bitsPerValue</b></td><td>16</td></tr> <tr><td><b>constantFieldHalfByte</b></td><td>8</td></tr> <tr><td><b>bitMapIndicator</b></td><td>255</td></tr> <tr><td><b>numberOfCodedValues</b></td><td>65160</td></tr> <tr><td><b>packingError</b></td><td>0.00049591064453125</td></tr> <tr><td><b>unpackedError</b></td><td>1.52587890625e-05</td></tr> <tr><td><b>maximum</b></td><td>273.33799743652344</td></tr> <tr><td><b>minimum</b></td><td>224.05772399902344</td></tr> <tr><td><b>average</b></td><td>252.5098487718183</td></tr> <tr><td><b>standardDeviation</b></td><td>13.372886915179645</td></tr> <tr><td><b>skewness</b></td><td>-0.2209591997514728</td></tr> <tr><td><b>kurtosis</b></td><td>-1.2738579926507174</td></tr> <tr><td><b>isConstant</b></td><td>0.0</td></tr> <tr><td><b>numberOfMissing</b></td><td>0</td></tr> <tr><td><b>dataLength</b></td><td>16290</td></tr> <tr><td><b>changeDecimalPrecision</b></td><td>0</td></tr> <tr><td><b>decimalPrecision</b></td><td>0</td></tr> <tr><td><b>bitsPerValueAndRepack</b></td><td>16</td></tr> <tr><td><b>setPackingType</b></td><td>grid_simple</td></tr> <tr><td><b>scaleValuesBy</b></td><td>1.0</td></tr> <tr><td><b>offsetValuesBy</b></td><td>0.0</td></tr> <tr><td><b>gridType</b></td><td>regular_ll</td></tr> <tr><td><b>getNumberOfValues</b></td><td>65160</td></tr> <tr><td><b>padding_sec4_1</b></td><td></td></tr> <tr><td><b>md5Section4</b></td><td>73097e43c94a4e2947a55799222424c2</td></tr> <tr><td><b>section5Length</b></td><td>4</td></tr> <tr><td><b>7777</b></td><td>7777</td></tr>\n",
       "</table>\n",
       "</div>\n",
       "     \n",
       "<input type=\"radio\" name=\"eh-tabs\" id=\"4c02ba40-f778-47b3-a70b-5fa549172b4f\"  />\n",
       "<label for=\"4c02ba40-f778-47b3-a70b-5fa549172b4f\" title=\"Keys in the ecCodes ls namespace\">ls</label>\n",
       "<div class=\"tab\">\n",
       "<style type=\"text/css\">table.ek td {\n",
       "    vertical-align: top;\n",
       "    text-align: left !important;\n",
       "}\n",
       "\n",
       "table.ek th {\n",
       "    vertical-align: top;\n",
       "    text-align: left !important;\n",
       "}\n",
       "</style>\n",
       "<table class=\"eh-table\">\n",
       "<tr><td><b>edition</b></td><td>1</td></tr> <tr><td><b>centre</b></td><td>ecmf</td></tr> <tr><td><b>typeOfLevel</b></td><td>isobaricInhPa</td></tr> <tr><td><b>level</b></td><td>500</td></tr> <tr><td><b>dataDate</b></td><td>20070101</td></tr> <tr><td><b>stepRange</b></td><td>0</td></tr> <tr><td><b>dataType</b></td><td>an</td></tr> <tr><td><b>shortName</b></td><td>t</td></tr> <tr><td><b>packingType</b></td><td>grid_simple</td></tr> <tr><td><b>gridType</b></td><td>regular_ll</td></tr>\n",
       "</table>\n",
       "</div>\n",
       "     \n",
       "<input type=\"radio\" name=\"eh-tabs\" id=\"3f4524b7-786f-4494-b4c9-8117892f11df\"  />\n",
       "<label for=\"3f4524b7-786f-4494-b4c9-8117892f11df\" title=\"Keys in the ecCodes geography namespace\">geography</label>\n",
       "<div class=\"tab\">\n",
       "<style type=\"text/css\">table.ek td {\n",
       "    vertical-align: top;\n",
       "    text-align: left !important;\n",
       "}\n",
       "\n",
       "table.ek th {\n",
       "    vertical-align: top;\n",
       "    text-align: left !important;\n",
       "}\n",
       "</style>\n",
       "<table class=\"eh-table\">\n",
       "<tr><td><b>bitmapPresent</b></td><td>0</td></tr> <tr><td><b>Ni</b></td><td>360</td></tr> <tr><td><b>Nj</b></td><td>181</td></tr> <tr><td><b>latitudeOfFirstGridPointInDegrees</b></td><td>90.0</td></tr> <tr><td><b>longitudeOfFirstGridPointInDegrees</b></td><td>0.0</td></tr> <tr><td><b>latitudeOfLastGridPointInDegrees</b></td><td>-90.0</td></tr> <tr><td><b>longitudeOfLastGridPointInDegrees</b></td><td>359.0</td></tr> <tr><td><b>iScansNegatively</b></td><td>0</td></tr> <tr><td><b>jScansPositively</b></td><td>0</td></tr> <tr><td><b>jPointsAreConsecutive</b></td><td>0</td></tr> <tr><td><b>jDirectionIncrementInDegrees</b></td><td>1.0</td></tr> <tr><td><b>iDirectionIncrementInDegrees</b></td><td>1.0</td></tr> <tr><td><b>gridType</b></td><td>regular_ll</td></tr>\n",
       "</table>\n",
       "</div>\n",
       "     \n",
       "<input type=\"radio\" name=\"eh-tabs\" id=\"9380afeb-a668-431e-ab4d-900c80791da1\"  />\n",
       "<label for=\"9380afeb-a668-431e-ab4d-900c80791da1\" title=\"Keys in the ecCodes mars namespace\">mars</label>\n",
       "<div class=\"tab\">\n",
       "<style type=\"text/css\">table.ek td {\n",
       "    vertical-align: top;\n",
       "    text-align: left !important;\n",
       "}\n",
       "\n",
       "table.ek th {\n",
       "    vertical-align: top;\n",
       "    text-align: left !important;\n",
       "}\n",
       "</style>\n",
       "<table class=\"eh-table\">\n",
       "<tr><td><b>domain</b></td><td>g</td></tr> <tr><td><b>levtype</b></td><td>pl</td></tr> <tr><td><b>levelist</b></td><td>500</td></tr> <tr><td><b>date</b></td><td>20070101</td></tr> <tr><td><b>time</b></td><td>1200</td></tr> <tr><td><b>step</b></td><td>0</td></tr> <tr><td><b>param</b></td><td>t</td></tr> <tr><td><b>class</b></td><td>ea</td></tr> <tr><td><b>type</b></td><td>an</td></tr> <tr><td><b>stream</b></td><td>oper</td></tr> <tr><td><b>expver</b></td><td>0001</td></tr>\n",
       "</table>\n",
       "</div>\n",
       "     \n",
       "<input type=\"radio\" name=\"eh-tabs\" id=\"1436d0e3-ce94-46c1-9308-a0d78d398d94\" checked />\n",
       "<label for=\"1436d0e3-ce94-46c1-9308-a0d78d398d94\" title=\"Keys in the ecCodes parameter namespace\">parameter</label>\n",
       "<div class=\"tab\">\n",
       "<style type=\"text/css\">table.ek td {\n",
       "    vertical-align: top;\n",
       "    text-align: left !important;\n",
       "}\n",
       "\n",
       "table.ek th {\n",
       "    vertical-align: top;\n",
       "    text-align: left !important;\n",
       "}\n",
       "</style>\n",
       "<table class=\"eh-table\">\n",
       "<tr><td><b>centre</b></td><td>ecmf</td></tr> <tr><td><b>paramId</b></td><td>130</td></tr> <tr><td><b>units</b></td><td>K</td></tr> <tr><td><b>name</b></td><td>Temperature</td></tr> <tr><td><b>shortName</b></td><td>t</td></tr>\n",
       "</table>\n",
       "</div>\n",
       "     \n",
       "<input type=\"radio\" name=\"eh-tabs\" id=\"a0e8d685-b4c1-4e81-9510-974a50fab99c\"  />\n",
       "<label for=\"a0e8d685-b4c1-4e81-9510-974a50fab99c\" title=\"Keys in the ecCodes statistics namespace\">statistics</label>\n",
       "<div class=\"tab\">\n",
       "<style type=\"text/css\">table.ek td {\n",
       "    vertical-align: top;\n",
       "    text-align: left !important;\n",
       "}\n",
       "\n",
       "table.ek th {\n",
       "    vertical-align: top;\n",
       "    text-align: left !important;\n",
       "}\n",
       "</style>\n",
       "<table class=\"eh-table\">\n",
       "<tr><td><b>max</b></td><td>273.33799743652344</td></tr> <tr><td><b>min</b></td><td>224.05772399902344</td></tr> <tr><td><b>avg</b></td><td>252.5098487718183</td></tr> <tr><td><b>sd</b></td><td>13.372886915179645</td></tr> <tr><td><b>skew</b></td><td>-0.2209591997514728</td></tr> <tr><td><b>kurt</b></td><td>-1.2738579926507174</td></tr> <tr><td><b>const</b></td><td>0.0</td></tr>\n",
       "</table>\n",
       "</div>\n",
       "     \n",
       "<input type=\"radio\" name=\"eh-tabs\" id=\"189902cc-0946-48f6-9efa-c6871df2912a\"  />\n",
       "<label for=\"189902cc-0946-48f6-9efa-c6871df2912a\" title=\"Keys in the ecCodes time namespace\">time</label>\n",
       "<div class=\"tab\">\n",
       "<style type=\"text/css\">table.ek td {\n",
       "    vertical-align: top;\n",
       "    text-align: left !important;\n",
       "}\n",
       "\n",
       "table.ek th {\n",
       "    vertical-align: top;\n",
       "    text-align: left !important;\n",
       "}\n",
       "</style>\n",
       "<table class=\"eh-table\">\n",
       "<tr><td><b>dataDate</b></td><td>20070101</td></tr> <tr><td><b>dataTime</b></td><td>1200</td></tr> <tr><td><b>stepUnits</b></td><td>1</td></tr> <tr><td><b>stepType</b></td><td>instant</td></tr> <tr><td><b>stepRange</b></td><td>0</td></tr> <tr><td><b>startStep</b></td><td>0</td></tr> <tr><td><b>endStep</b></td><td>0</td></tr> <tr><td><b>validityDate</b></td><td>20070101</td></tr> <tr><td><b>validityTime</b></td><td>1200</td></tr>\n",
       "</table>\n",
       "</div>\n",
       "     \n",
       "<input type=\"radio\" name=\"eh-tabs\" id=\"a87dc8b6-4898-4fd1-9f12-2fb855639376\"  />\n",
       "<label for=\"a87dc8b6-4898-4fd1-9f12-2fb855639376\" title=\"Keys in the ecCodes vertical namespace\">vertical</label>\n",
       "<div class=\"tab\">\n",
       "<style type=\"text/css\">table.ek td {\n",
       "    vertical-align: top;\n",
       "    text-align: left !important;\n",
       "}\n",
       "\n",
       "table.ek th {\n",
       "    vertical-align: top;\n",
       "    text-align: left !important;\n",
       "}\n",
       "</style>\n",
       "<table class=\"eh-table\">\n",
       "<tr><td><b>typeOfLevel</b></td><td>isobaricInhPa</td></tr> <tr><td><b>level</b></td><td>500</td></tr>\n",
       "</table>\n",
       "</div>\n",
       "    \n",
       "</div>\n",
       "</div>\n",
       "</div>\n",
       "</section>\n",
       "</div>\n",
       "        "
      ],
      "text/plain": [
       "{'default': {'globalDomain': 'g',\n",
       "  'GRIBEditionNumber': 1,\n",
       "  'eps': 0,\n",
       "  'offsetSection0': 0,\n",
       "  'section0Length': 8,\n",
       "  'totalLength': 130428,\n",
       "  'editionNumber': 1,\n",
       "  'WMO': 0,\n",
       "  'productionStatusOfProcessedData': 0,\n",
       "  'section1Length': 52,\n",
       "  'wrongPadding': 0,\n",
       "  'table2Version': 128,\n",
       "  'centre': 'ecmf',\n",
       "  'centreDescription': 'European Centre for Medium-Range Weather Forecasts',\n",
       "  'generatingProcessIdentifier': 145,\n",
       "  'gridDefinition': 255,\n",
       "  'indicatorOfParameter': 130,\n",
       "  'parameterName': 'Temperature',\n",
       "  'parameterUnits': 'K',\n",
       "  'indicatorOfTypeOfLevel': 'pl',\n",
       "  'pressureUnits': 'hPa',\n",
       "  'typeOfLevelECMF': 'isobaricInhPa',\n",
       "  'typeOfLevel': 'isobaricInhPa',\n",
       "  'level': 500,\n",
       "  'yearOfCentury': 7,\n",
       "  'month': 1,\n",
       "  'day': 1,\n",
       "  'hour': 12,\n",
       "  'minute': 0,\n",
       "  'second': 0,\n",
       "  'unitOfTimeRange': 1,\n",
       "  'P1': 0,\n",
       "  'P2': 0,\n",
       "  'timeRangeIndicator': 0,\n",
       "  'numberIncludedInAverage': 0,\n",
       "  'numberMissingFromAveragesOrAccumulations': 0,\n",
       "  'centuryOfReferenceTimeOfData': 21,\n",
       "  'subCentre': 0,\n",
       "  'paramIdECMF': '130',\n",
       "  'paramId': 130,\n",
       "  'cfNameECMF': 'air_temperature',\n",
       "  'cfName': 'air_temperature',\n",
       "  'unitsECMF': 'K',\n",
       "  'units': 'K',\n",
       "  'nameECMF': 'Temperature',\n",
       "  'name': 'Temperature',\n",
       "  'decimalScaleFactor': 0,\n",
       "  'setLocalDefinition': 0,\n",
       "  'optimizeScaleFactor': 0,\n",
       "  'dataDate': 20070101,\n",
       "  'year': 2007,\n",
       "  'dataTime': 1200,\n",
       "  'julianDay': 2454102.0,\n",
       "  'stepUnits': 1,\n",
       "  'stepType': 'instant',\n",
       "  'stepRange': '0',\n",
       "  'startStep': 0,\n",
       "  'endStep': 0,\n",
       "  'marsParam': '130.128',\n",
       "  'validityDate': 20070101,\n",
       "  'validityTime': 1200,\n",
       "  'validityDateTime': 2454101.5083333333,\n",
       "  'deleteLocalDefinition': 0,\n",
       "  'localUsePresent': 1,\n",
       "  'reservedNeedNotBePresent': [''],\n",
       "  'localDefinitionNumber': 1,\n",
       "  'GRIBEXSection1Problem': 0,\n",
       "  'marsClass': 'ea',\n",
       "  'marsType': 'an',\n",
       "  'marsStream': 'oper',\n",
       "  'experimentVersionNumber': '0001',\n",
       "  'perturbationNumber': 0,\n",
       "  'numberOfForecastsInEnsemble': 0,\n",
       "  'padding_local1_1': '00',\n",
       "  'grib2LocalSectionNumber': 1,\n",
       "  'localExtensionPadding': '',\n",
       "  '_x': None,\n",
       "  'section1Padding': '',\n",
       "  'shortNameECMF': 't',\n",
       "  'shortName': 't',\n",
       "  'cfVarNameECMF': 't',\n",
       "  'cfVarName': 't',\n",
       "  'ifsParam': 130,\n",
       "  'stepTypeForConversion': 'unknown',\n",
       "  'md5Section1': 'e4c6d9f0d01b01247d9c57dad662ee30',\n",
       "  'md5Product': 'ed3159ec68703fb0415e15e859b4eb02',\n",
       "  'paramIdForConversion': 0,\n",
       "  'gridDescriptionSectionPresent': 1,\n",
       "  'bitmapPresent': 0,\n",
       "  'angleSubdivisions': 1000,\n",
       "  'section2Length': 32,\n",
       "  'radius': 6367470,\n",
       "  'numberOfVerticalCoordinateValues': 0,\n",
       "  'neitherPresent': 255,\n",
       "  'pvlLocation': 255,\n",
       "  'dataRepresentationType': 0,\n",
       "  'gridDefinitionDescription': 'Latitude/Longitude Grid',\n",
       "  'gridDefinitionTemplateNumber': 0,\n",
       "  'Ni': 360,\n",
       "  'Nj': 181,\n",
       "  'latitudeOfFirstGridPoint': 90000,\n",
       "  'latitudeOfFirstGridPointInDegrees': 90.0,\n",
       "  'longitudeOfFirstGridPoint': 0,\n",
       "  'longitudeOfFirstGridPointInDegrees': 0.0,\n",
       "  'resolutionAndComponentFlags': 128,\n",
       "  'ijDirectionIncrementGiven': 1,\n",
       "  'earthIsOblate': 0,\n",
       "  'resolutionAndComponentFlags3': 0,\n",
       "  'resolutionAndComponentFlags4': 0,\n",
       "  'uvRelativeToGrid': 0,\n",
       "  'resolutionAndComponentFlags6': 0,\n",
       "  'resolutionAndComponentFlags7': 0,\n",
       "  'resolutionAndComponentFlags8': 0,\n",
       "  'latitudeOfLastGridPoint': -90000,\n",
       "  'latitudeOfLastGridPointInDegrees': -90.0,\n",
       "  'longitudeOfLastGridPoint': 359000,\n",
       "  'longitudeOfLastGridPointInDegrees': 359.0,\n",
       "  'iDirectionIncrement': 1000,\n",
       "  'jDirectionIncrement': 1000,\n",
       "  'isGridded': 1,\n",
       "  'scanningMode': 0,\n",
       "  'iScansNegatively': 0,\n",
       "  'jScansPositively': 0,\n",
       "  'jPointsAreConsecutive': 0,\n",
       "  'alternativeRowScanning': 0,\n",
       "  'iScansPositively': 1,\n",
       "  'jScansNegatively': 1,\n",
       "  'scanningMode4': 0,\n",
       "  'scanningMode5': 0,\n",
       "  'scanningMode6': 0,\n",
       "  'scanningMode7': 0,\n",
       "  'scanningMode8': 0,\n",
       "  'swapScanningAlternativeRows': 0,\n",
       "  'jDirectionIncrementInDegrees': 1.0,\n",
       "  'iDirectionIncrementInDegrees': 1.0,\n",
       "  'numberOfDataPoints': 65160,\n",
       "  'numberOfValues': 65160,\n",
       "  'zeros': '',\n",
       "  'PVPresent': 0,\n",
       "  'padding_sec2_2': '',\n",
       "  'PLPresent': 0,\n",
       "  'padding_sec2_1': '',\n",
       "  'deletePV': '1',\n",
       "  'padding_sec2_3': '',\n",
       "  'md5Section2': 'd0ccb07e4b36a8911817cc07539cf859',\n",
       "  'isSpectral': 0,\n",
       "  'lengthOfHeaders': 85,\n",
       "  'md5Headers': 'b2ff552cc12a4ea08bfbd989ed20c0fb',\n",
       "  'missingValue': 9999,\n",
       "  'tableReference': 0,\n",
       "  'section4Length': 130332,\n",
       "  'halfByte': 8,\n",
       "  'dataFlag': 8,\n",
       "  'binaryScaleFactor': -10,\n",
       "  'referenceValue': 224.05772399902344,\n",
       "  'referenceValueError': 1.52587890625e-05,\n",
       "  'sphericalHarmonics': 0,\n",
       "  'complexPacking': 0,\n",
       "  'integerPointValues': 0,\n",
       "  'additionalFlagPresent': 0,\n",
       "  'orderOfSPD': 2,\n",
       "  'boustrophedonic': 0,\n",
       "  'hideThis': 0,\n",
       "  'packingType': 'grid_simple',\n",
       "  'bitsPerValue': 16,\n",
       "  'constantFieldHalfByte': 8,\n",
       "  'bitMapIndicator': 255,\n",
       "  'numberOfCodedValues': 65160,\n",
       "  'packingError': 0.00049591064453125,\n",
       "  'unpackedError': 1.52587890625e-05,\n",
       "  'maximum': 273.33799743652344,\n",
       "  'minimum': 224.05772399902344,\n",
       "  'average': 252.5098487718183,\n",
       "  'standardDeviation': 13.372886915179645,\n",
       "  'skewness': -0.2209591997514728,\n",
       "  'kurtosis': -1.2738579926507174,\n",
       "  'isConstant': 0.0,\n",
       "  'numberOfMissing': 0,\n",
       "  'dataLength': 16290,\n",
       "  'changeDecimalPrecision': 0,\n",
       "  'decimalPrecision': 0,\n",
       "  'bitsPerValueAndRepack': 16,\n",
       "  'setPackingType': 'grid_simple',\n",
       "  'scaleValuesBy': 1.0,\n",
       "  'offsetValuesBy': 0.0,\n",
       "  'gridType': 'regular_ll',\n",
       "  'getNumberOfValues': 65160,\n",
       "  'padding_sec4_1': '',\n",
       "  'md5Section4': '73097e43c94a4e2947a55799222424c2',\n",
       "  'section5Length': 4,\n",
       "  '7777': '7777'},\n",
       " 'ls': {'edition': 1,\n",
       "  'centre': 'ecmf',\n",
       "  'typeOfLevel': 'isobaricInhPa',\n",
       "  'level': 500,\n",
       "  'dataDate': 20070101,\n",
       "  'stepRange': '0',\n",
       "  'dataType': 'an',\n",
       "  'shortName': 't',\n",
       "  'packingType': 'grid_simple',\n",
       "  'gridType': 'regular_ll'},\n",
       " 'geography': {'bitmapPresent': 0,\n",
       "  'Ni': 360,\n",
       "  'Nj': 181,\n",
       "  'latitudeOfFirstGridPointInDegrees': 90.0,\n",
       "  'longitudeOfFirstGridPointInDegrees': 0.0,\n",
       "  'latitudeOfLastGridPointInDegrees': -90.0,\n",
       "  'longitudeOfLastGridPointInDegrees': 359.0,\n",
       "  'iScansNegatively': 0,\n",
       "  'jScansPositively': 0,\n",
       "  'jPointsAreConsecutive': 0,\n",
       "  'jDirectionIncrementInDegrees': 1.0,\n",
       "  'iDirectionIncrementInDegrees': 1.0,\n",
       "  'gridType': 'regular_ll'},\n",
       " 'mars': {'domain': 'g',\n",
       "  'levtype': 'pl',\n",
       "  'levelist': 500,\n",
       "  'date': 20070101,\n",
       "  'time': 1200,\n",
       "  'step': 0,\n",
       "  'param': 't',\n",
       "  'class': 'ea',\n",
       "  'type': 'an',\n",
       "  'stream': 'oper',\n",
       "  'expver': '0001'},\n",
       " 'parameter': {'centre': 'ecmf',\n",
       "  'paramId': 130,\n",
       "  'units': 'K',\n",
       "  'name': 'Temperature',\n",
       "  'shortName': 't'},\n",
       " 'statistics': {'max': 273.33799743652344,\n",
       "  'min': 224.05772399902344,\n",
       "  'avg': 252.5098487718183,\n",
       "  'sd': 13.372886915179645,\n",
       "  'skew': -0.2209591997514728,\n",
       "  'kurt': -1.2738579926507174,\n",
       "  'const': 0.0},\n",
       " 'time': {'dataDate': 20070101,\n",
       "  'dataTime': 1200,\n",
       "  'stepUnits': 1,\n",
       "  'stepType': 'instant',\n",
       "  'stepRange': '0',\n",
       "  'startStep': 0,\n",
       "  'endStep': 0,\n",
       "  'validityDate': 20070101,\n",
       "  'validityTime': 1200},\n",
       " 'vertical': {'typeOfLevel': 'isobaricInhPa', 'level': 500}}"
      ]
     },
     "execution_count": 16,
     "metadata": {},
     "output_type": "execute_result"
    }
   ],
   "source": [
    "md.dump()"
   ]
  },
  {
   "cell_type": "raw",
   "id": "07b127e2-3401-44a7-9e83-5feb2e116b79",
   "metadata": {
    "editable": true,
    "raw_mimetype": "text/restructuredtext",
    "slideshow": {
     "slide_type": ""
    },
    "tags": []
   },
   "source": [
    "When we call :py:meth:`~data.readers.grib.metadata.GribMetadata.override` the new ecCodes handle is cloned and updated then added to the resulting object. The original metadata will not change."
   ]
  },
  {
   "cell_type": "code",
   "execution_count": 17,
   "id": "ac4195c6-9473-4db2-8747-38ddc5205a34",
   "metadata": {
    "editable": true,
    "slideshow": {
     "slide_type": ""
    },
    "tags": []
   },
   "outputs": [
    {
     "name": "stdout",
     "output_type": "stream",
     "text": [
      "500\n",
      "850\n"
     ]
    }
   ],
   "source": [
    "md1 = md.override(level=850)\n",
    "print(md.get(\"level\"))\n",
    "print(md1.get(\"level\"))"
   ]
  },
  {
   "cell_type": "markdown",
   "id": "b0dec726-be53-4fb0-b06d-7ca572e2655f",
   "metadata": {},
   "source": [
    "Naturally, md1 still works when md is released:"
   ]
  },
  {
   "cell_type": "code",
   "execution_count": 18,
   "id": "23d7a755-b46c-4b68-b5f1-e5c016e0f260",
   "metadata": {},
   "outputs": [
    {
     "data": {
      "text/plain": [
       "850"
      ]
     },
     "execution_count": 18,
     "metadata": {},
     "output_type": "execute_result"
    }
   ],
   "source": [
    "md = None\n",
    "md1[\"level\"]"
   ]
  },
  {
   "cell_type": "raw",
   "id": "dc74c7bc-e6c7-4fad-970c-9471e03c1a39",
   "metadata": {
    "editable": true,
    "raw_mimetype": "text/restructuredtext",
    "slideshow": {
     "slide_type": ""
    },
    "tags": []
   },
   "source": [
    ":py:meth:`~data.readers.grib.metadata.GribMetadata.override` also works with other Metadata objects:"
   ]
  },
  {
   "cell_type": "code",
   "execution_count": 19,
   "id": "3ea5c463-e17e-4cce-9bd8-a10df6b58589",
   "metadata": {
    "editable": true,
    "slideshow": {
     "slide_type": ""
    },
    "tags": []
   },
   "outputs": [
    {
     "name": "stdout",
     "output_type": "stream",
     "text": [
      "700\n",
      "pt\n"
     ]
    }
   ],
   "source": [
    "raw_md = RawMetadata(level=700, shortName=\"pt\")\n",
    "md2 = md1.override(raw_md)\n",
    "print(md2.get(\"level\"))\n",
    "print(md2.get(\"shortName\"))"
   ]
  },
  {
   "cell_type": "code",
   "execution_count": null,
   "id": "f6baea78-3c27-452e-81c7-262e481a5c58",
   "metadata": {},
   "outputs": [],
   "source": []
  }
 ],
 "metadata": {
  "kernelspec": {
   "display_name": "dev_ecc",
   "language": "python",
   "name": "dev_ecc"
  },
  "language_info": {
   "codemirror_mode": {
    "name": "ipython",
    "version": 3
   },
   "file_extension": ".py",
   "mimetype": "text/x-python",
   "name": "python",
   "nbconvert_exporter": "python",
   "pygments_lexer": "ipython3",
   "version": "3.10.13"
  }
 },
 "nbformat": 4,
 "nbformat_minor": 5
}
