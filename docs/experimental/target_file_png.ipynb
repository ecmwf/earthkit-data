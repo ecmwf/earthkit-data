{
 "cells": [
  {
   "cell_type": "code",
   "execution_count": 1,
   "id": "01c36d02-3286-4cfb-904c-c38b9a8df940",
   "metadata": {
    "editable": true,
    "slideshow": {
     "slide_type": ""
    },
    "tags": []
   },
   "outputs": [],
   "source": [
    "from earthkit.data import from_source\n",
    "from earthkit.data.testing import earthkit_examples_file\n",
    "from earthkit.data.targets import  make_target\n",
    "\n",
    "# helper\n",
    "def show_img(fname):\n",
    "    from IPython.display import Image\n",
    "    return Image(filename=fname, width=300) "
   ]
  },
  {
   "cell_type": "markdown",
   "id": "05ba8248-bed4-40ae-a7d8-53627150de2f",
   "metadata": {},
   "source": [
    "#### GRIB to PNG"
   ]
  },
  {
   "cell_type": "code",
   "execution_count": 2,
   "id": "c9dfdab5-2691-49e4-aa3b-0e7bcb028c5a",
   "metadata": {},
   "outputs": [
    {
     "data": {
      "image/png": "[encoded data removed]",
      "text/plain": [
       "<IPython.core.display.Image object>"
      ]
     },
     "execution_count": 2,
     "metadata": {
      "image/png": {
       "width": 300
      }
     },
     "output_type": "execute_result"
    }
   ],
   "source": [
    "ds = from_source(\"file\", earthkit_examples_file(\"test.grib\"))\n",
    "\n",
    "target = make_target(\"file\", \"res.png\", encoder=\"png\")\n",
    "target.write(ds[0])\n",
    "target.close()\n",
    "\n",
    "show_img(\"res.png\")"
   ]
  },
  {
   "cell_type": "markdown",
   "id": "314bb1bf-3b75-4943-864f-c5080a41f8ed",
   "metadata": {},
   "source": [
    "Using objects."
   ]
  },
  {
   "cell_type": "code",
   "execution_count": 3,
   "id": "6693659d-5992-42f4-8c6f-ef9d6e6ae554",
   "metadata": {},
   "outputs": [
    {
     "data": {
      "image/png": "[encoded data removed]",
      "text/plain": [
       "<IPython.core.display.Image object>"
      ]
     },
     "execution_count": 3,
     "metadata": {
      "image/png": {
       "width": 300
      }
     },
     "output_type": "execute_result"
    }
   ],
   "source": [
    "from earthkit.data.encoders.png import PngEncoder\n",
    "from earthkit.data.targets.file import FileTarget\n",
    "\n",
    "target = FileTarget(\"res1.png\", encoder=PngEncoder())\n",
    "target.write(ds[0])\n",
    "target.close()\n",
    "\n",
    "show_img(\"res1.png\")"
   ]
  },
  {
   "cell_type": "markdown",
   "id": "c6ee0ad3-151d-448d-a4fb-1eaacc0a3afe",
   "metadata": {},
   "source": [
    "#### NetCDF to PNG"
   ]
  },
  {
   "cell_type": "code",
   "execution_count": 4,
   "id": "d2abd806-c682-4e1a-8399-0d435f4a3c55",
   "metadata": {},
   "outputs": [
    {
     "data": {
      "image/png": "[encoded data removed]",
      "text/plain": [
       "<IPython.core.display.Image object>"
      ]
     },
     "execution_count": 4,
     "metadata": {
      "image/png": {
       "width": 300
      }
     },
     "output_type": "execute_result"
    }
   ],
   "source": [
    "ds = from_source(\"file\", earthkit_examples_file(\"test.nc\"))\n",
    "\n",
    "target = make_target(\"file\", \"res2.png\", encoder=\"png\")\n",
    "target.write(ds[0])\n",
    "target.close()\n",
    "\n",
    "show_img(\"res2.png\")"
   ]
  }
 ],
 "metadata": {
  "kernelspec": {
   "display_name": "dev_ecc",
   "language": "python",
   "name": "dev_ecc"
  },
  "language_info": {
   "codemirror_mode": {
    "name": "ipython",
    "version": 3
   },
   "file_extension": ".py",
   "mimetype": "text/x-python",
   "name": "python",
   "nbconvert_exporter": "python",
   "pygments_lexer": "ipython3",
   "version": "3.10.13"
  }
 },
 "nbformat": 4,
 "nbformat_minor": 5
}
