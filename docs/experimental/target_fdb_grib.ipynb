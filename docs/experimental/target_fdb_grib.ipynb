{
 "cells": [
  {
   "cell_type": "code",
   "execution_count": 1,
   "id": "7c43fd35-3937-474f-8de4-16bbcacc624a",
   "metadata": {
    "editable": true,
    "slideshow": {
     "slide_type": ""
    },
    "tags": []
   },
   "outputs": [],
   "source": [
    "import os\n",
    "os.environ[\"FDB5_DIR\"] = os.path.expanduser(\"~/install/fdb/release\")"
   ]
  },
  {
   "cell_type": "markdown",
   "id": "35706a67-ade6-4e7f-bb70-8e0a549b86d9",
   "metadata": {},
   "source": [
    "#### Config"
   ]
  },
  {
   "cell_type": "code",
   "execution_count": 2,
   "id": "f9c3ebc4-5f8f-4d9a-b011-56505b1bf9e9",
   "metadata": {},
   "outputs": [],
   "source": [
    "import os\n",
    "\n",
    "from earthkit.data import from_source\n",
    "from earthkit.data.testing import earthkit_examples_file\n",
    "from earthkit.data.targets import  make_target\n",
    "\n",
    "ds = from_source(\"file\", earthkit_examples_file(\"test.grib\"))\n",
    "\n",
    "fdb_schema = \"./schema\"\n",
    "fdb_dir = \"./_fdb\"\n",
    "os.makedirs(fdb_dir, exist_ok=True)\n",
    "\n",
    "config = {\"type\":\"local\",\n",
    "     \"engine\":\"toc\",\n",
    "     \"schema\":fdb_schema,\n",
    "     \"spaces\":[{\"handler\":\"Default\",\n",
    "                \"roots\":[{\"path\":fdb_dir}]}]}\n",
    "\n",
    "# os.environ[\"FDB5_CONFIG\"] = str(c)\n",
    "\n",
    "target = make_target(\"fdb\", config=config)\n",
    "target.write(ds[0])\n",
    "target.write(ds[1])\n",
    "target.flush()"
   ]
  },
  {
   "cell_type": "markdown",
   "id": "301c6689-06df-4f66-9874-56651c3a2afe",
   "metadata": {},
   "source": [
    "#### Write whole fieldlist"
   ]
  },
  {
   "cell_type": "code",
   "execution_count": 3,
   "id": "72c4385d-961a-46fd-9735-50833ca809ac",
   "metadata": {},
   "outputs": [],
   "source": [
    "target = make_target(\"fdb\", config=config)\n",
    "target.write(ds[0])\n",
    "target.write(ds[1])\n",
    "target.flush()"
   ]
  },
  {
   "cell_type": "markdown",
   "id": "8d7b0175-f35e-4f4f-9f64-8f5607dfa3df",
   "metadata": {},
   "source": [
    "#### Read result"
   ]
  },
  {
   "cell_type": "code",
   "execution_count": 4,
   "id": "1217b5e9-28bf-4e71-89c0-5653ce1d55e8",
   "metadata": {
    "editable": true,
    "slideshow": {
     "slide_type": ""
    },
    "tags": []
   },
   "outputs": [
    {
     "name": "stdout",
     "output_type": "stream",
     "text": [
      "{'class': 'od', 'date': '20200513', 'domain': 'g', 'expver': '0001', 'stream': 'oper', 'time': '1200', 'levtype': 'sfc', 'type': 'an', 'param': '151', 'step': '0'}\n",
      "{'class': 'od', 'date': '20200513', 'domain': 'g', 'expver': '0001', 'stream': 'oper', 'time': '1200', 'levtype': 'sfc', 'type': 'an', 'param': '167', 'step': '0'}\n"
     ]
    }
   ],
   "source": [
    "import pyfdb\n",
    "\n",
    "request = {\n",
    "    'class': 'od',\n",
    "    'expver': '0001',\n",
    "    'stream': 'oper',\n",
    "    'date': '20200513',\n",
    "    'time': 1200,\n",
    "    'domain': 'g',\n",
    "    'type': 'an',\n",
    "    'levtype': 'sfc',\n",
    "    'step': 0,\n",
    "    'param': [167,151]\n",
    "}\n",
    "\n",
    "fdb = pyfdb.FDB(config=config)\n",
    "\n",
    "for el in fdb.list(request, True, True):\n",
    "    print(el['keys'])"
   ]
  },
  {
   "cell_type": "code",
   "execution_count": 5,
   "id": "732bd4c4-b197-4dec-b404-8182be8a2772",
   "metadata": {
    "editable": true,
    "slideshow": {
     "slide_type": ""
    },
    "tags": []
   },
   "outputs": [
    {
     "data": {
      "text/html": [
       "<div>\n",
       "<style scoped>\n",
       "    .dataframe tbody tr th:only-of-type {\n",
       "        vertical-align: middle;\n",
       "    }\n",
       "\n",
       "    .dataframe tbody tr th {\n",
       "        vertical-align: top;\n",
       "    }\n",
       "\n",
       "    .dataframe thead th {\n",
       "        text-align: right;\n",
       "    }\n",
       "</style>\n",
       "<table border=\"1\" class=\"dataframe\">\n",
       "  <thead>\n",
       "    <tr style=\"text-align: right;\">\n",
       "      <th></th>\n",
       "      <th>centre</th>\n",
       "      <th>shortName</th>\n",
       "      <th>typeOfLevel</th>\n",
       "      <th>level</th>\n",
       "      <th>dataDate</th>\n",
       "      <th>dataTime</th>\n",
       "      <th>stepRange</th>\n",
       "      <th>dataType</th>\n",
       "      <th>number</th>\n",
       "      <th>gridType</th>\n",
       "    </tr>\n",
       "  </thead>\n",
       "  <tbody>\n",
       "    <tr>\n",
       "      <th>0</th>\n",
       "      <td>ecmf</td>\n",
       "      <td>2t</td>\n",
       "      <td>surface</td>\n",
       "      <td>0</td>\n",
       "      <td>20200513</td>\n",
       "      <td>1200</td>\n",
       "      <td>0</td>\n",
       "      <td>an</td>\n",
       "      <td>0</td>\n",
       "      <td>regular_ll</td>\n",
       "    </tr>\n",
       "    <tr>\n",
       "      <th>1</th>\n",
       "      <td>ecmf</td>\n",
       "      <td>msl</td>\n",
       "      <td>surface</td>\n",
       "      <td>0</td>\n",
       "      <td>20200513</td>\n",
       "      <td>1200</td>\n",
       "      <td>0</td>\n",
       "      <td>an</td>\n",
       "      <td>0</td>\n",
       "      <td>regular_ll</td>\n",
       "    </tr>\n",
       "  </tbody>\n",
       "</table>\n",
       "</div>"
      ],
      "text/plain": [
       "  centre shortName typeOfLevel  level  dataDate  dataTime stepRange dataType  \\\n",
       "0   ecmf        2t     surface      0  20200513      1200         0       an   \n",
       "1   ecmf       msl     surface      0  20200513      1200         0       an   \n",
       "\n",
       "   number    gridType  \n",
       "0       0  regular_ll  \n",
       "1       0  regular_ll  "
      ]
     },
     "execution_count": 5,
     "metadata": {},
     "output_type": "execute_result"
    }
   ],
   "source": [
    "#os.environ[\"FDB5_CONFIG\"] = str(c)\n",
    "from_source(\"fdb\", request, config=config, stream=False).ls()"
   ]
  },
  {
   "cell_type": "code",
   "execution_count": null,
   "id": "2e3f6e52-3f18-49fc-911a-b44b74f30814",
   "metadata": {},
   "outputs": [],
   "source": []
  }
 ],
 "metadata": {
  "kernelspec": {
   "display_name": "dev_ecc",
   "language": "python",
   "name": "dev_ecc"
  },
  "language_info": {
   "codemirror_mode": {
    "name": "ipython",
    "version": 3
   },
   "file_extension": ".py",
   "mimetype": "text/x-python",
   "name": "python",
   "nbconvert_exporter": "python",
   "pygments_lexer": "ipython3",
   "version": "3.10.13"
  }
 },
 "nbformat": 4,
 "nbformat_minor": 5
}
